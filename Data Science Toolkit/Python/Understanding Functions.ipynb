{
 "cells": [
  {
   "cell_type": "markdown",
   "id": "1dac353c",
   "metadata": {},
   "source": [
    "### What is a Function?"
   ]
  },
  {
   "cell_type": "markdown",
   "id": "5989b82e",
   "metadata": {},
   "source": [
    "1. Re-usable piece of code\n",
    "2. Created for solving specific Problem"
   ]
  },
  {
   "cell_type": "markdown",
   "id": "d54fc7a7",
   "metadata": {},
   "source": [
    "### Functions are two Types"
   ]
  },
  {
   "cell_type": "markdown",
   "id": "8265a3e3",
   "metadata": {},
   "source": [
    "#### 1 . Built-in functions"
   ]
  },
  {
   "cell_type": "markdown",
   "id": "7d6a731a",
   "metadata": {},
   "source": [
    "print(),range(),max(),min(),etc."
   ]
  },
  {
   "cell_type": "markdown",
   "id": "0d0145da",
   "metadata": {},
   "source": [
    "### 2 . user define function"
   ]
  },
  {
   "cell_type": "markdown",
   "id": "9113a5de",
   "metadata": {},
   "source": [
    "Area_of_circle()"
   ]
  },
  {
   "cell_type": "markdown",
   "id": "870c68d4",
   "metadata": {},
   "source": [
    "##### Syntax for defining a function"
   ]
  },
  {
   "cell_type": "raw",
   "id": "95d8e34b",
   "metadata": {},
   "source": [
    "def function_name(arguments):\n",
    "    statement 1\n",
    "    statement 2\n",
    "    statement 3\n",
    "    ...........\n",
    "    return statement"
   ]
  },
  {
   "cell_type": "code",
   "execution_count": 3,
   "id": "a2fb86c6",
   "metadata": {},
   "outputs": [
    {
     "name": "stdout",
     "output_type": "stream",
     "text": [
      "Enter the radius of circle : 1\n",
      "Area of Circle :  3.14\n"
     ]
    }
   ],
   "source": [
    "def Area_of_circle(r):\n",
    "    area = 3.14 *r*r\n",
    "    return area\n",
    "r=eval(input(\"Enter the radius of circle : \"))\n",
    "print(\"Area of Circle : \",Area_of_circle(r))"
   ]
  },
  {
   "cell_type": "markdown",
   "id": "85723347",
   "metadata": {},
   "source": [
    "#### Problem : Create a function that takes two number as argument and return the greater of the two"
   ]
  },
  {
   "cell_type": "code",
   "execution_count": 8,
   "id": "17710392",
   "metadata": {},
   "outputs": [
    {
     "name": "stdout",
     "output_type": "stream",
     "text": [
      "Enter two Number : 4 6\n",
      "Greater Number :  6\n"
     ]
    }
   ],
   "source": [
    "def compare(a,b):\n",
    "    if a>b:\n",
    "        Greater = a\n",
    "    else:\n",
    "        Greater = b\n",
    "    return Greater\n",
    "a,b=input(\"Enter two Number : \").split()\n",
    "print(\"Greater Number : \",compare(a,b))"
   ]
  },
  {
   "cell_type": "code",
   "execution_count": null,
   "id": "55bd8d4f",
   "metadata": {},
   "outputs": [],
   "source": []
  }
 ],
 "metadata": {
  "kernelspec": {
   "display_name": "Python 3 (ipykernel)",
   "language": "python",
   "name": "python3"
  },
  "language_info": {
   "codemirror_mode": {
    "name": "ipython",
    "version": 3
   },
   "file_extension": ".py",
   "mimetype": "text/x-python",
   "name": "python",
   "nbconvert_exporter": "python",
   "pygments_lexer": "ipython3",
   "version": "3.8.15"
  }
 },
 "nbformat": 4,
 "nbformat_minor": 5
}
