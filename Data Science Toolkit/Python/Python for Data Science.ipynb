{
 "cells": [
  {
   "cell_type": "markdown",
   "id": "a420de5e",
   "metadata": {},
   "source": [
    "# Why Python?"
   ]
  },
  {
   "cell_type": "markdown",
   "id": "1b8cddad",
   "metadata": {},
   "source": [
    "- Open Source\n",
    "- Syntax as simple as English\n",
    "- Very large and collaborative developer community\n",
    "- Extensive package for data science like scikit-learn,pandas etc."
   ]
  },
  {
   "cell_type": "markdown",
   "id": "a60c756b",
   "metadata": {},
   "source": [
    "print('Hello "
   ]
  },
  {
   "cell_type": "code",
   "execution_count": null,
   "id": "d01fbe56",
   "metadata": {},
   "outputs": [],
   "source": []
  }
 ],
 "metadata": {
  "kernelspec": {
   "display_name": "Python 3 (ipykernel)",
   "language": "python",
   "name": "python3"
  },
  "language_info": {
   "codemirror_mode": {
    "name": "ipython",
    "version": 3
   },
   "file_extension": ".py",
   "mimetype": "text/x-python",
   "name": "python",
   "nbconvert_exporter": "python",
   "pygments_lexer": "ipython3",
   "version": "3.8.15"
  }
 },
 "nbformat": 4,
 "nbformat_minor": 5
}
