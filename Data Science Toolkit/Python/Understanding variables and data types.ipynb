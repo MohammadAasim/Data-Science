{
 "cells": [
  {
   "cell_type": "code",
   "execution_count": null,
   "id": "fd702fa4",
   "metadata": {},
   "outputs": [],
   "source": [
    "\n"
   ]
  },
  {
   "cell_type": "markdown",
   "id": "b5e22285",
   "metadata": {},
   "source": [
    "# Variables"
   ]
  },
  {
   "cell_type": "markdown",
   "id": "131f31ba",
   "metadata": {},
   "source": [
    "#### variable are names bounded to objects"
   ]
  },
  {
   "cell_type": "markdown",
   "id": "fdd8938c",
   "metadata": {},
   "source": [
    "Variable_name = value"
   ]
  },
  {
   "cell_type": "markdown",
   "id": "3c5cd14b",
   "metadata": {},
   "source": [
    "### Variables naming rules in Python"
   ]
  },
  {
   "cell_type": "raw",
   "id": "d5bad6ad",
   "metadata": {},
   "source": [
    "1. Python are case-sensitive\n",
    "A=5 and a=5 are diffrent\n",
    "\n",
    "2. Variable name cannot start with special character except underscore\n",
    "-sam=5 is valid but @sam=5 is invalid\n",
    "\n",
    "3. Vraiable name cannot start with number\n",
    "9sam=5 is invalid"
   ]
  },
  {
   "cell_type": "markdown",
   "id": "e15b3213",
   "metadata": {},
   "source": [
    "#### Data Type in Python"
   ]
  },
  {
   "cell_type": "raw",
   "id": "be9dd993",
   "metadata": {},
   "source": [
    "int  -> Integer Numbers -> 4,-5,7,8,etc.\n",
    "float  -> Decimal Numbers -> 4.5,-6.7,3.14,etc.\n",
    "bool -> Boolean values -> True and False\n",
    "str -> string -> \"Python\"\n",
    "complex -> a+bj"
   ]
  },
  {
   "cell_type": "code",
   "execution_count": 4,
   "id": "4c8471e5",
   "metadata": {},
   "outputs": [
    {
     "name": "stdout",
     "output_type": "stream",
     "text": [
      "<class 'int'>\n",
      "<class 'float'>\n",
      "<class 'bool'>\n",
      "<class 'str'>\n",
      "<class 'complex'>\n"
     ]
    }
   ],
   "source": [
    "a=1\n",
    "b=1.2\n",
    "c=True\n",
    "d=\"Data\"\n",
    "e=1+2j\n",
    "print(type(a))\n",
    "print(type(b))\n",
    "print(type(c))\n",
    "print(type(d))\n",
    "print(type(e))"
   ]
  },
  {
   "cell_type": "code",
   "execution_count": null,
   "id": "77663184",
   "metadata": {},
   "outputs": [],
   "source": []
  }
 ],
 "metadata": {
  "kernelspec": {
   "display_name": "Python 3 (ipykernel)",
   "language": "python",
   "name": "python3"
  },
  "language_info": {
   "codemirror_mode": {
    "name": "ipython",
    "version": 3
   },
   "file_extension": ".py",
   "mimetype": "text/x-python",
   "name": "python",
   "nbconvert_exporter": "python",
   "pygments_lexer": "ipython3",
   "version": "3.8.15"
  }
 },
 "nbformat": 4,
 "nbformat_minor": 5
}
