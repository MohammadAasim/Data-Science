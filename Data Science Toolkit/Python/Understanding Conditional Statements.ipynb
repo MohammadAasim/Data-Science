{
 "cells": [
  {
   "cell_type": "markdown",
   "id": "2fc64879",
   "metadata": {},
   "source": [
    "### if - else statements : Single Condition"
   ]
  },
  {
   "cell_type": "markdown",
   "id": "9e67a1bb",
   "metadata": {},
   "source": [
    "**Syntax**"
   ]
  },
  {
   "cell_type": "raw",
   "id": "e39feee5",
   "metadata": {},
   "source": [
    "if(condition):\n",
    "    statement 1\n",
    "else:\n",
    "    statement 2"
   ]
  },
  {
   "cell_type": "code",
   "execution_count": 2,
   "id": "18781974",
   "metadata": {},
   "outputs": [
    {
     "name": "stdout",
     "output_type": "stream",
     "text": [
      "Enter the Number : 23\n",
      "23  is odd number\n"
     ]
    }
   ],
   "source": [
    "n = eval(input(\"Enter the Number : \"))\n",
    "if n%2==0:\n",
    "    print(n, \" is even number\")\n",
    "else:\n",
    "    print(n, \" is odd number\")\n",
    "    "
   ]
  },
  {
   "cell_type": "markdown",
   "id": "60fbed7f",
   "metadata": {},
   "source": [
    "### if - elif - else statements : Multiple Conditions"
   ]
  },
  {
   "cell_type": "raw",
   "id": "b6df8f5a",
   "metadata": {},
   "source": [
    "if(condition 1):\n",
    "    statement 1\n",
    "elif(condition 2):\n",
    "    statement 2\n",
    "else:\n",
    "    statement 3"
   ]
  },
  {
   "cell_type": "code",
   "execution_count": 5,
   "id": "5851826f",
   "metadata": {},
   "outputs": [
    {
     "name": "stdout",
     "output_type": "stream",
     "text": [
      "Enter the Number : -543\n",
      "-543  is negative number\n"
     ]
    }
   ],
   "source": [
    "n=eval(input(\"Enter the Number : \"))\n",
    "if n>0:\n",
    "    print(n,\" is positive number\")\n",
    "elif n<0:\n",
    "    print(n, \" is negative number\")\n",
    "else:\n",
    "    print(n ,\" is zero number\")"
   ]
  },
  {
   "cell_type": "markdown",
   "id": "33474aca",
   "metadata": {},
   "source": [
    "#### Problem 1 : take a variable x and print \"Even\" if number is divisible by 2, otherwise print \"Odd\"    "
   ]
  },
  {
   "cell_type": "code",
   "execution_count": 6,
   "id": "0ba2bb58",
   "metadata": {},
   "outputs": [
    {
     "name": "stdout",
     "output_type": "stream",
     "text": [
      "Enter the number : 12\n",
      "Even\n"
     ]
    }
   ],
   "source": [
    "x=eval(input(\"Enter the number : \"))\n",
    "if x%2==0:\n",
    "    print(\"Even\")\n",
    "else:\n",
    "    print(\"Odd\")"
   ]
  },
  {
   "cell_type": "markdown",
   "id": "8ce34fd3",
   "metadata": {},
   "source": [
    "#### Problem 2 : Take a variable y and print \"Grade A\" if y is greater than 90 ,\"Grade B\" if y is greater than but equal to 90 and \"Grade F\" otherwise"
   ]
  },
  {
   "cell_type": "code",
   "execution_count": 7,
   "id": "6470be0f",
   "metadata": {},
   "outputs": [
    {
     "name": "stdout",
     "output_type": "stream",
     "text": [
      "Enter Marks of Subject : 75\n",
      "Grade B\n"
     ]
    }
   ],
   "source": [
    "y=eval(input(\"Enter Marks of Subject : \"))\n",
    "if y>90:\n",
    "    print(\"Grade A\")\n",
    "elif(y>60 and y<=90):\n",
    "    print(\"Grade B\")\n",
    "else:\n",
    "    print(\"Grade F\")"
   ]
  },
  {
   "cell_type": "code",
   "execution_count": null,
   "id": "91062c4e",
   "metadata": {},
   "outputs": [],
   "source": []
  }
 ],
 "metadata": {
  "kernelspec": {
   "display_name": "Python 3 (ipykernel)",
   "language": "python",
   "name": "python3"
  },
  "language_info": {
   "codemirror_mode": {
    "name": "ipython",
    "version": 3
   },
   "file_extension": ".py",
   "mimetype": "text/x-python",
   "name": "python",
   "nbconvert_exporter": "python",
   "pygments_lexer": "ipython3",
   "version": "3.8.15"
  }
 },
 "nbformat": 4,
 "nbformat_minor": 5
}
