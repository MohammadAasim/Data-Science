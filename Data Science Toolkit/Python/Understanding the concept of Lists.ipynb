{
 "cells": [
  {
   "cell_type": "markdown",
   "id": "b0000736",
   "metadata": {},
   "source": [
    "# What is a List?"
   ]
  },
  {
   "cell_type": "markdown",
   "id": "c11e75bf",
   "metadata": {},
   "source": [
    "##### A list is an ordered data structure with elements seprated by comma and enclosed within square brackets"
   ]
  },
  {
   "cell_type": "markdown",
   "id": "0f0f3cdf",
   "metadata": {},
   "source": [
    "some example of list-"
   ]
  },
  {
   "cell_type": "code",
   "execution_count": null,
   "id": "e9f8bc81",
   "metadata": {},
   "outputs": [],
   "source": [
    "list1=[2,3,4,5,6]#single data type\n",
    "list2=['Python','is','Awesome'] # single data type\n",
    "list3=[1,'Python',2,'is',3,'Awesome'] # mix data type"
   ]
  },
  {
   "cell_type": "markdown",
   "id": "957cb9c6",
   "metadata": {},
   "source": [
    "# Sub-setting a List"
   ]
  },
  {
   "cell_type": "code",
   "execution_count": 5,
   "id": "baba0265",
   "metadata": {},
   "outputs": [
    {
     "name": "stdout",
     "output_type": "stream",
     "text": [
      "1\n",
      "['Python', 2, 'is', 3]\n",
      "Awesome\n"
     ]
    }
   ],
   "source": [
    "list3=[1,'Python',2,'is',3,'Awesome']\n",
    "print(list3[0])#first element\n",
    "print(list3[1:5])#middle element\n",
    "print(list3[-1])#last element"
   ]
  },
  {
   "cell_type": "markdown",
   "id": "0661c8e4",
   "metadata": {},
   "source": [
    "# Adding elements to an existing List"
   ]
  },
  {
   "cell_type": "code",
   "execution_count": 8,
   "id": "c1bbd390",
   "metadata": {},
   "outputs": [],
   "source": [
    "list3=[1,'Python',2,'is',3,'Awesome']"
   ]
  },
  {
   "cell_type": "markdown",
   "id": "d38d1fc9",
   "metadata": {},
   "source": [
    "##### Adding a single element"
   ]
  },
  {
   "cell_type": "code",
   "execution_count": 9,
   "id": "99e17d87",
   "metadata": {},
   "outputs": [
    {
     "name": "stdout",
     "output_type": "stream",
     "text": [
      "[1, 'Python', 2, 'is', 3, 'Awesome', 4]\n"
     ]
    }
   ],
   "source": [
    "list3.append(4)\n",
    "print(list3)"
   ]
  },
  {
   "cell_type": "markdown",
   "id": "9267f088",
   "metadata": {},
   "source": [
    "##### Adding a multiple elements"
   ]
  },
  {
   "cell_type": "code",
   "execution_count": 10,
   "id": "f5bcb643",
   "metadata": {},
   "outputs": [
    {
     "name": "stdout",
     "output_type": "stream",
     "text": [
      "[1, 'Python', 2, 'is', 3, 'Awesome', 4, 5, 6]\n"
     ]
    }
   ],
   "source": [
    "list3.extend([5,6])\n",
    "print(list3)"
   ]
  },
  {
   "cell_type": "markdown",
   "id": "1662c068",
   "metadata": {},
   "source": [
    "##### Adding a list to list"
   ]
  },
  {
   "cell_type": "code",
   "execution_count": 11,
   "id": "57f74e9b",
   "metadata": {},
   "outputs": [
    {
     "name": "stdout",
     "output_type": "stream",
     "text": [
      "[1, 'Python', 2, 'is', 3, 'Awesome', 4, 5, 6, [7, 8]]\n"
     ]
    }
   ],
   "source": [
    "list3.append([7,8])\n",
    "print(list3)"
   ]
  },
  {
   "cell_type": "markdown",
   "id": "e559e6ea",
   "metadata": {},
   "source": [
    "# Deleting Element of a List"
   ]
  },
  {
   "cell_type": "markdown",
   "id": "0016585a",
   "metadata": {},
   "source": [
    "##### Deleting an element by value"
   ]
  },
  {
   "cell_type": "code",
   "execution_count": 17,
   "id": "550d607b",
   "metadata": {},
   "outputs": [
    {
     "name": "stdout",
     "output_type": "stream",
     "text": [
      "[1, 'Python', 'is', 3, 'Awesome']\n"
     ]
    }
   ],
   "source": [
    "list4=[1,'Python',2,'is',3,'Awesome']\n",
    "list4.remove(2)\n",
    "print(list4)"
   ]
  },
  {
   "cell_type": "markdown",
   "id": "7e10ef2f",
   "metadata": {},
   "source": [
    "##### Deleting an element by index"
   ]
  },
  {
   "cell_type": "code",
   "execution_count": 18,
   "id": "920d9d2f",
   "metadata": {},
   "outputs": [
    {
     "name": "stdout",
     "output_type": "stream",
     "text": [
      "[1, 'Python', 3, 'Awesome']\n"
     ]
    }
   ],
   "source": [
    "del list4[2]\n",
    "print(list4)"
   ]
  },
  {
   "cell_type": "markdown",
   "id": "cf3ce77c",
   "metadata": {},
   "source": [
    "# Looping over a List"
   ]
  },
  {
   "cell_type": "code",
   "execution_count": null,
   "id": "ed8cff7c",
   "metadata": {},
   "outputs": [],
   "source": [
    "list5=[1,'Python',2,'is',3,'Awesome']\n",
    "#printing each element od a list\n",
    "for i in list5:\n",
    "    print"
   ]
  }
 ],
 "metadata": {
  "kernelspec": {
   "display_name": "Python 3 (ipykernel)",
   "language": "python",
   "name": "python3"
  },
  "language_info": {
   "codemirror_mode": {
    "name": "ipython",
    "version": 3
   },
   "file_extension": ".py",
   "mimetype": "text/x-python",
   "name": "python",
   "nbconvert_exporter": "python",
   "pygments_lexer": "ipython3",
   "version": "3.8.15"
  }
 },
 "nbformat": 4,
 "nbformat_minor": 5
}
