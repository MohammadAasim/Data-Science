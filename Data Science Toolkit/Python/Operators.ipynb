{
 "cells": [
  {
   "cell_type": "markdown",
   "id": "5c8d448b",
   "metadata": {},
   "source": [
    "### What is Operators?"
   ]
  },
  {
   "cell_type": "markdown",
   "id": "b5742662",
   "metadata": {},
   "source": [
    "##### Symbolic Representation of mathematical tasks."
   ]
  },
  {
   "cell_type": "markdown",
   "id": "e1f7e002",
   "metadata": {},
   "source": [
    "### Diffrent Types of Operators"
   ]
  },
  {
   "cell_type": "markdown",
   "id": "d4f50024",
   "metadata": {},
   "source": [
    "#### 1. Arithmetic Operators"
   ]
  },
  {
   "cell_type": "markdown",
   "id": "a9745607",
   "metadata": {},
   "source": [
    "Addition(+) Substraction(-) Multiplication(*) Float Division(/) Integer Division(//) Modulus(%) Power(**) "
   ]
  },
  {
   "cell_type": "code",
   "execution_count": 3,
   "id": "70df9695",
   "metadata": {},
   "outputs": [
    {
     "name": "stdout",
     "output_type": "stream",
     "text": [
      "Enter first number : 5\n",
      "Enter second number : 2\n",
      "Addition :  7\n",
      "Substraction :  3\n",
      "Multiplication :  10\n",
      "Float Division :  2.5\n",
      "Integer Division :  2\n",
      "Modulus :  1\n",
      "Power :  25\n"
     ]
    }
   ],
   "source": [
    "a=eval(input('Enter first number : '))\n",
    "b=eval(input('Enter second number : '))\n",
    "print('Addition : ',a+b)\n",
    "print('Substraction : ',a-b)\n",
    "print('Multiplication : ',a*b)\n",
    "print('Float Division : ',a/b)\n",
    "print('Integer Division : ',a//b)\n",
    "print('Modulus : ',a%b)\n",
    "print('Power : ',a**b)"
   ]
  },
  {
   "cell_type": "markdown",
   "id": "4065d45a",
   "metadata": {},
   "source": [
    "#### 2. Comparison Operators"
   ]
  },
  {
   "cell_type": "markdown",
   "id": "d9f8db3d",
   "metadata": {},
   "source": [
    "Less than(<), Less than or Equal to(<=), Equal to(==), Greater than(>), Greater than or Equal to(>=), Not Equal to(!=), "
   ]
  },
  {
   "cell_type": "code",
   "execution_count": 4,
   "id": "b17d113b",
   "metadata": {},
   "outputs": [
    {
     "name": "stdout",
     "output_type": "stream",
     "text": [
      "Enter first number : 12\n",
      "Enter second number : 12\n",
      "Less than :  False\n",
      "Less than or Equal to :  True\n",
      "Equal to :  True\n",
      "Greater than :  False\n",
      "Greater than or Equal to :  True\n",
      "Not Equal to :  False\n"
     ]
    }
   ],
   "source": [
    "a=eval(input('Enter first number : '))\n",
    "b=eval(input('Enter second number : '))\n",
    "print('Less than : ',a<b)\n",
    "print('Less than or Equal to : ',a<=b)\n",
    "print('Equal to : ',a==b)\n",
    "print('Greater than : ',a>b)\n",
    "print('Greater than or Equal to : ',a>=b)\n",
    "print('Not Equal to : ',a!=b)"
   ]
  },
  {
   "cell_type": "markdown",
   "id": "a0147730",
   "metadata": {},
   "source": [
    "#### 3. Logical Operators"
   ]
  },
  {
   "cell_type": "markdown",
   "id": "3d32a89e",
   "metadata": {},
   "source": [
    "- and(Returns True if both statements are true)\n",
    "- or(Returns True if one of the statements is true) \n",
    "- not(Returns True if one of the statements is true)"
   ]
  },
  {
   "cell_type": "code",
   "execution_count": 7,
   "id": "32cc988a",
   "metadata": {},
   "outputs": [
    {
     "name": "stdout",
     "output_type": "stream",
     "text": [
      "Enter first number : 1\n",
      "Enter second number : 0\n",
      "and :  0\n",
      "or :  1\n",
      "not :  False\n"
     ]
    }
   ],
   "source": [
    "a=eval(input('Enter first number : '))\n",
    "b=eval(input('Enter second number : '))\n",
    "print('and : ',a and b)\n",
    "print('or : ',a or b)\n",
    "print('not : ', not a)"
   ]
  },
  {
   "cell_type": "code",
   "execution_count": 8,
   "id": "b0da5faa",
   "metadata": {},
   "outputs": [
    {
     "data": {
      "text/plain": [
       "'Hello12345'"
      ]
     },
     "execution_count": 8,
     "metadata": {},
     "output_type": "execute_result"
    }
   ],
   "source": [
    "'Hello'+'12345'"
   ]
  },
  {
   "cell_type": "code",
   "execution_count": 10,
   "id": "bdca79dd",
   "metadata": {},
   "outputs": [
    {
     "data": {
      "text/plain": [
       "'Hello Hello Hello Hello Hello '"
      ]
     },
     "execution_count": 10,
     "metadata": {},
     "output_type": "execute_result"
    }
   ],
   "source": [
    "'Hello '*5"
   ]
  },
  {
   "cell_type": "code",
   "execution_count": 11,
   "id": "79b26751",
   "metadata": {},
   "outputs": [
    {
     "data": {
      "text/plain": [
       "0"
      ]
     },
     "execution_count": 11,
     "metadata": {},
     "output_type": "execute_result"
    }
   ],
   "source": [
    "0 and 3"
   ]
  },
  {
   "cell_type": "code",
   "execution_count": 12,
   "id": "3af0591f",
   "metadata": {},
   "outputs": [
    {
     "data": {
      "text/plain": [
       "3"
      ]
     },
     "execution_count": 12,
     "metadata": {},
     "output_type": "execute_result"
    }
   ],
   "source": [
    "0 or 3"
   ]
  },
  {
   "cell_type": "code",
   "execution_count": 13,
   "id": "a57e5fe1",
   "metadata": {},
   "outputs": [
    {
     "data": {
      "text/plain": [
       "0"
      ]
     },
     "execution_count": 13,
     "metadata": {},
     "output_type": "execute_result"
    }
   ],
   "source": [
    "3 and 0"
   ]
  },
  {
   "cell_type": "code",
   "execution_count": 14,
   "id": "60573620",
   "metadata": {},
   "outputs": [
    {
     "data": {
      "text/plain": [
       "3"
      ]
     },
     "execution_count": 14,
     "metadata": {},
     "output_type": "execute_result"
    }
   ],
   "source": [
    "3 or 0"
   ]
  },
  {
   "cell_type": "code",
   "execution_count": 15,
   "id": "b78f09f2",
   "metadata": {},
   "outputs": [
    {
     "data": {
      "text/plain": [
       "3"
      ]
     },
     "execution_count": 15,
     "metadata": {},
     "output_type": "execute_result"
    }
   ],
   "source": [
    "3 or 5"
   ]
  },
  {
   "cell_type": "code",
   "execution_count": 16,
   "id": "bbf6fed2",
   "metadata": {},
   "outputs": [
    {
     "data": {
      "text/plain": [
       "False"
      ]
     },
     "execution_count": 16,
     "metadata": {},
     "output_type": "execute_result"
    }
   ],
   "source": [
    "not 7"
   ]
  },
  {
   "cell_type": "code",
   "execution_count": null,
   "id": "8ca301d3",
   "metadata": {},
   "outputs": [],
   "source": []
  }
 ],
 "metadata": {
  "kernelspec": {
   "display_name": "Python 3 (ipykernel)",
   "language": "python",
   "name": "python3"
  },
  "language_info": {
   "codemirror_mode": {
    "name": "ipython",
    "version": 3
   },
   "file_extension": ".py",
   "mimetype": "text/x-python",
   "name": "python",
   "nbconvert_exporter": "python",
   "pygments_lexer": "ipython3",
   "version": "3.8.15"
  }
 },
 "nbformat": 4,
 "nbformat_minor": 5
}
