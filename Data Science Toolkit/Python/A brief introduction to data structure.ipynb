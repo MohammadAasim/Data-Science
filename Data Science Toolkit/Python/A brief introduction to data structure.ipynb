{
 "cells": [
  {
   "cell_type": "markdown",
   "id": "ecfe5cce",
   "metadata": {},
   "source": [
    "# Data structures"
   ]
  },
  {
   "cell_type": "markdown",
   "id": "bebb15b8",
   "metadata": {},
   "source": [
    "Existing data types - int ,float ,bool ,str"
   ]
  },
  {
   "cell_type": "markdown",
   "id": "b2254eb7",
   "metadata": {},
   "source": [
    "Problem with Existing Data types"
   ]
  },
  {
   "cell_type": "markdown",
   "id": "6fab5adf",
   "metadata": {},
   "source": [
    "1. Data in a variable can be stored in a single format\n",
    "i.e either integers or decimal or string etc.\n",
    "\n",
    "2. large memory overhead by create large number of variables\n",
    "\n",
    "3. Unfit for storing large structured data\n"
   ]
  },
  {
   "cell_type": "markdown",
   "id": "6c6250b8",
   "metadata": {},
   "source": [
    "Two Data structure for solving these problems"
   ]
  },
  {
   "cell_type": "raw",
   "id": "3218be20",
   "metadata": {},
   "source": [
    "1. Lists      \n",
    "[1,\"Python\",2,'is',3,'Awesome']\n",
    "\n",
    "2. Dictonaries\n",
    "{\"Ramesh\":120,'Sudesh':245}"
   ]
  },
  {
   "cell_type": "code",
   "execution_count": null,
   "id": "18ca4e8c",
   "metadata": {},
   "outputs": [],
   "source": []
  }
 ],
 "metadata": {
  "kernelspec": {
   "display_name": "Python 3 (ipykernel)",
   "language": "python",
   "name": "python3"
  },
  "language_info": {
   "codemirror_mode": {
    "name": "ipython",
    "version": 3
   },
   "file_extension": ".py",
   "mimetype": "text/x-python",
   "name": "python",
   "nbconvert_exporter": "python",
   "pygments_lexer": "ipython3",
   "version": "3.8.15"
  }
 },
 "nbformat": 4,
 "nbformat_minor": 5
}
