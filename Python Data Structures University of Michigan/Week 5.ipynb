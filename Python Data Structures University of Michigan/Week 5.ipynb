{
 "cells": [
  {
   "cell_type": "markdown",
   "id": "a90be6e7",
   "metadata": {},
   "source": [
    "# Dictionaries"
   ]
  },
  {
   "cell_type": "markdown",
   "id": "5cc974c5",
   "metadata": {},
   "source": [
    "### List"
   ]
  },
  {
   "cell_type": "markdown",
   "id": "326d99a0",
   "metadata": {},
   "source": [
    "- A linear collection of values that stay in order"
   ]
  },
  {
   "cell_type": "markdown",
   "id": "3dad550b",
   "metadata": {},
   "source": [
    "### Dictionary"
   ]
  },
  {
   "cell_type": "markdown",
   "id": "ccc6d4f2",
   "metadata": {},
   "source": [
    "- A \"bag\" of values each with its own label"
   ]
  },
  {
   "cell_type": "markdown",
   "id": "ac32fda9",
   "metadata": {},
   "source": [
    "- Dictionaries are Python's most powerfull data Collection\n",
    "- Dictionaries allow us to fast database-like operations in Python\n",
    "- Dictionaries have diffrent names in diffrent languages\n",
    "    - Associative Arrays - Perl/PHP\n",
    "    - Properties or Map or hashmap - Java\n",
    "    - Proparty bag - C#/.NFT"
   ]
  },
  {
   "cell_type": "code",
   "execution_count": 13,
   "id": "5d1d0d63",
   "metadata": {},
   "outputs": [
    {
     "name": "stdout",
     "output_type": "stream",
     "text": [
      "{'money': 12, 'candy': 3, 'tissues': 75}\n"
     ]
    }
   ],
   "source": [
    "purse=dict()\n",
    "purse['money']=12\n",
    "purse['candy']=3\n",
    "purse['tissues']=75\n",
    "print(purse)"
   ]
  },
  {
   "cell_type": "code",
   "execution_count": 14,
   "id": "19f46b62",
   "metadata": {},
   "outputs": [
    {
     "name": "stdout",
     "output_type": "stream",
     "text": [
      "3\n"
     ]
    }
   ],
   "source": [
    "print(purse['candy'])"
   ]
  },
  {
   "cell_type": "code",
   "execution_count": 15,
   "id": "f662cfd2",
   "metadata": {},
   "outputs": [],
   "source": [
    "purse['candy']=purse['candy']+2"
   ]
  },
  {
   "cell_type": "code",
   "execution_count": 16,
   "id": "a7f51ad5",
   "metadata": {},
   "outputs": [
    {
     "name": "stdout",
     "output_type": "stream",
     "text": [
      "{'money': 12, 'candy': 5, 'tissues': 75}\n"
     ]
    }
   ],
   "source": [
    "print(purse)"
   ]
  },
  {
   "cell_type": "markdown",
   "id": "08486dec",
   "metadata": {},
   "source": [
    "### Comparing Lists and Dictionaries"
   ]
  },
  {
   "cell_type": "code",
   "execution_count": 17,
   "id": "38d1d7b3",
   "metadata": {},
   "outputs": [
    {
     "name": "stdout",
     "output_type": "stream",
     "text": [
      "[12, 183]\n"
     ]
    }
   ],
   "source": [
    "lst=list()\n",
    "lst.append(12)\n",
    "lst.append(183)\n",
    "print(lst)"
   ]
  },
  {
   "cell_type": "code",
   "execution_count": 18,
   "id": "97ca9393",
   "metadata": {},
   "outputs": [
    {
     "name": "stdout",
     "output_type": "stream",
     "text": [
      "[23, 183]\n"
     ]
    }
   ],
   "source": [
    "lst[0]=23\n",
    "print(lst)"
   ]
  },
  {
   "cell_type": "code",
   "execution_count": 19,
   "id": "f158d9e1",
   "metadata": {},
   "outputs": [
    {
     "name": "stdout",
     "output_type": "stream",
     "text": [
      "{'age': 21, 'course': 182}\n"
     ]
    }
   ],
   "source": [
    "ddd=dict()\n",
    "ddd['age']=21\n",
    "ddd['course']=182\n",
    "print(ddd)"
   ]
  },
  {
   "cell_type": "code",
   "execution_count": 20,
   "id": "38269290",
   "metadata": {},
   "outputs": [
    {
     "name": "stdout",
     "output_type": "stream",
     "text": [
      "{'age': 23, 'course': 182}\n"
     ]
    }
   ],
   "source": [
    "ddd['age']=23\n",
    "print(ddd)"
   ]
  },
  {
   "cell_type": "markdown",
   "id": "8a94da87",
   "metadata": {},
   "source": [
    "# Counting with Dictionaries"
   ]
  },
  {
   "cell_type": "markdown",
   "id": "3a44ef8b",
   "metadata": {},
   "source": [
    "### Many Counter with a Dictionary"
   ]
  },
  {
   "cell_type": "code",
   "execution_count": 28,
   "id": "3348e689",
   "metadata": {},
   "outputs": [
    {
     "name": "stdout",
     "output_type": "stream",
     "text": [
      "{'csev': 1, 'cwen': 1}\n"
     ]
    }
   ],
   "source": [
    "ccc=dict()\n",
    "ccc['csev']=1\n",
    "ccc['cwen']=1\n",
    "print(ccc)"
   ]
  },
  {
   "cell_type": "code",
   "execution_count": 29,
   "id": "9b5faf1e",
   "metadata": {},
   "outputs": [
    {
     "name": "stdout",
     "output_type": "stream",
     "text": [
      "{'csev': 1, 'cwen': 2}\n"
     ]
    }
   ],
   "source": [
    "ccc['cwen']=ccc['cwen']+1\n",
    "print(ccc)"
   ]
  },
  {
   "cell_type": "code",
   "execution_count": 30,
   "id": "ee8d9f37",
   "metadata": {},
   "outputs": [
    {
     "data": {
      "text/plain": [
       "False"
      ]
     },
     "execution_count": 30,
     "metadata": {},
     "output_type": "execute_result"
    }
   ],
   "source": [
    "'csew' in dict()"
   ]
  },
  {
   "cell_type": "code",
   "execution_count": 32,
   "id": "9e52d028",
   "metadata": {},
   "outputs": [
    {
     "data": {
      "text/plain": [
       "True"
      ]
     },
     "execution_count": 32,
     "metadata": {},
     "output_type": "execute_result"
    }
   ],
   "source": [
    "'cwen' in ccc"
   ]
  },
  {
   "cell_type": "markdown",
   "id": "30af9221",
   "metadata": {},
   "source": [
    "##### When we see a new Name"
   ]
  },
  {
   "cell_type": "code",
   "execution_count": 34,
   "id": "0d3c1b7f",
   "metadata": {},
   "outputs": [
    {
     "name": "stdout",
     "output_type": "stream",
     "text": [
      "{'csev': 2, 'cwen': 2, 'zqian': 1}\n"
     ]
    }
   ],
   "source": [
    "counts=dict()\n",
    "names=['csev','cwen','csev','zqian','cwen']\n",
    "for name in names:\n",
    "    if name not in counts:\n",
    "        counts[name]=1\n",
    "    else:\n",
    "        counts[name]=counts[name]+1\n",
    "print(counts)        "
   ]
  },
  {
   "cell_type": "markdown",
   "id": "91c908f4",
   "metadata": {},
   "source": [
    "### To get method for Dictionaries"
   ]
  },
  {
   "cell_type": "code",
   "execution_count": 41,
   "id": "61af9761",
   "metadata": {},
   "outputs": [
    {
     "name": "stdout",
     "output_type": "stream",
     "text": [
      "{'csev': 2, 'cwen': 2, 'zqian': 1}\n"
     ]
    }
   ],
   "source": [
    "counts=dict()\n",
    "names=['csev','cwen','csev','zqian','cwen']\n",
    "for name in names:\n",
    "       counts[name] = counts.get(name,0)+1\n",
    "print(counts)    "
   ]
  },
  {
   "cell_type": "markdown",
   "id": "d4510a21",
   "metadata": {},
   "source": [
    "### Counting pattern"
   ]
  },
  {
   "cell_type": "code",
   "execution_count": 45,
   "id": "ddbd2978",
   "metadata": {},
   "outputs": [
    {
     "name": "stdout",
     "output_type": "stream",
     "text": [
      "Enter a line of text: \n",
      "Without loyalty there can be no love. Without loyalty there can be no family. Without loyalty there can be no friendship. Without loyalty there can be no commitment to community or country. And without those things, there can be no society.\n",
      "Words ['Without', 'loyalty', 'there', 'can', 'be', 'no', 'love.', 'Without', 'loyalty', 'there', 'can', 'be', 'no', 'family.', 'Without', 'loyalty', 'there', 'can', 'be', 'no', 'friendship.', 'Without', 'loyalty', 'there', 'can', 'be', 'no', 'commitment', 'to', 'community', 'or', 'country.', 'And', 'without', 'those', 'things,', 'there', 'can', 'be', 'no', 'society.']\n",
      "Counting........\n",
      "Counts {'Without': 4, 'loyalty': 4, 'there': 5, 'can': 5, 'be': 5, 'no': 5, 'love.': 1, 'family.': 1, 'friendship.': 1, 'commitment': 1, 'to': 1, 'community': 1, 'or': 1, 'country.': 1, 'And': 1, 'without': 1, 'those': 1, 'things,': 1, 'society.': 1}\n"
     ]
    }
   ],
   "source": [
    "counts=dict()\n",
    "print(\"Enter a line of text: \")\n",
    "line=input('')\n",
    "words=line.split()\n",
    "print('Words',words)\n",
    "print('Counting........')\n",
    "for word in words:\n",
    "    counts[word]=counts.get(word,0)+1\n",
    "print('Counts',counts)    "
   ]
  },
  {
   "cell_type": "markdown",
   "id": "e2c5636f",
   "metadata": {},
   "source": [
    "### Definite Loops and Dictionaries"
   ]
  },
  {
   "cell_type": "code",
   "execution_count": 46,
   "id": "5e3f03c2",
   "metadata": {},
   "outputs": [
    {
     "name": "stdout",
     "output_type": "stream",
     "text": [
      "chuck 1\n",
      "fred 42\n",
      "jan 100\n"
     ]
    }
   ],
   "source": [
    "counts={'chuck':1,'fred':42,'jan':100}\n",
    "for key in counts:\n",
    "    print(key,counts[key])"
   ]
  },
  {
   "cell_type": "markdown",
   "id": "17ae8cf1",
   "metadata": {},
   "source": [
    "### Retrieving lists of keys and values"
   ]
  },
  {
   "cell_type": "code",
   "execution_count": 51,
   "id": "11fd2822",
   "metadata": {},
   "outputs": [
    {
     "name": "stdout",
     "output_type": "stream",
     "text": [
      "['chuck', 'fred', 'jan']\n"
     ]
    }
   ],
   "source": [
    "jjj={'chuck':1,'fred':42,'jan':100}\n",
    "print(list(jjj))"
   ]
  },
  {
   "cell_type": "code",
   "execution_count": 52,
   "id": "c5336307",
   "metadata": {},
   "outputs": [
    {
     "name": "stdout",
     "output_type": "stream",
     "text": [
      "dict_keys(['chuck', 'fred', 'jan'])\n"
     ]
    }
   ],
   "source": [
    "print(jjj.keys())"
   ]
  },
  {
   "cell_type": "code",
   "execution_count": 53,
   "id": "8ca49f7f",
   "metadata": {},
   "outputs": [
    {
     "name": "stdout",
     "output_type": "stream",
     "text": [
      "dict_values([1, 42, 100])\n"
     ]
    }
   ],
   "source": [
    "print(jjj.values())"
   ]
  },
  {
   "cell_type": "code",
   "execution_count": 54,
   "id": "a64ac778",
   "metadata": {},
   "outputs": [
    {
     "name": "stdout",
     "output_type": "stream",
     "text": [
      "dict_items([('chuck', 1), ('fred', 42), ('jan', 100)])\n"
     ]
    }
   ],
   "source": [
    "print(jjj.items())"
   ]
  },
  {
   "cell_type": "markdown",
   "id": "e7b50edd",
   "metadata": {},
   "source": [
    "### Two Iteration variable"
   ]
  },
  {
   "cell_type": "code",
   "execution_count": 55,
   "id": "29ab06d7",
   "metadata": {},
   "outputs": [
    {
     "name": "stdout",
     "output_type": "stream",
     "text": [
      "chuck 1\n",
      "fred 42\n",
      "jan 100\n"
     ]
    }
   ],
   "source": [
    "jjj={'chuck':1,'fred':42,'jan':100}\n",
    "for aaa,bbb in jjj.items():\n",
    "    print(aaa,bbb)"
   ]
  },
  {
   "cell_type": "markdown",
   "id": "66c52bf6",
   "metadata": {},
   "source": [
    "### one of Maximum word in file"
   ]
  },
  {
   "cell_type": "code",
   "execution_count": 62,
   "id": "7c877e66",
   "metadata": {},
   "outputs": [
    {
     "name": "stdout",
     "output_type": "stream",
     "text": [
      "Enter file :mbox.txt\n",
      "we 12\n"
     ]
    }
   ],
   "source": [
    "name=input('Enter file :')\n",
    "handle=open(name)\n",
    "\n",
    "counts=dict()\n",
    "for line in handle:\n",
    "    words=line.split()\n",
    "    for word in words:\n",
    "        counts[word]=counts.get(word,0)+1\n",
    "        \n",
    "bigcount=None\n",
    "bigword=None\n",
    "for word,count in counts.items():\n",
    "    if bigcount is None or count > bigcount:\n",
    "        bigword=word\n",
    "        bigcount=count\n",
    "print(bigword,bigcount)        "
   ]
  },
  {
   "cell_type": "code",
   "execution_count": null,
   "id": "457ff15f",
   "metadata": {},
   "outputs": [],
   "source": []
  }
 ],
 "metadata": {
  "kernelspec": {
   "display_name": "Python 3 (ipykernel)",
   "language": "python",
   "name": "python3"
  },
  "language_info": {
   "codemirror_mode": {
    "name": "ipython",
    "version": 3
   },
   "file_extension": ".py",
   "mimetype": "text/x-python",
   "name": "python",
   "nbconvert_exporter": "python",
   "pygments_lexer": "ipython3",
   "version": "3.8.8"
  }
 },
 "nbformat": 4,
 "nbformat_minor": 5
}
