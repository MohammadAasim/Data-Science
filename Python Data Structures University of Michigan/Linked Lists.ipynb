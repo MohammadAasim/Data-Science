{
 "cells": [
  {
   "cell_type": "markdown",
   "id": "da77a515",
   "metadata": {},
   "source": [
    "# LINKED LISTS"
   ]
  },
  {
   "cell_type": "markdown",
   "id": "6e2166b5",
   "metadata": {},
   "source": [
    "A linked list is sequence where each node points towards the next one in the sequence and contains data points at each nodes"
   ]
  },
  {
   "cell_type": "markdown",
   "id": "69670639",
   "metadata": {},
   "source": [
    "First nodes point to Head and Last node point to Tail"
   ]
  },
  {
   "cell_type": "markdown",
   "id": "88eeb595",
   "metadata": {},
   "source": [
    "# Types Of Linked Lists"
   ]
  },
  {
   "cell_type": "markdown",
   "id": "283996a0",
   "metadata": {},
   "source": [
    "1 Singly Linked Lists\n",
    "\n",
    "2 Doubly Linked Lists\n",
    "\n",
    "3 Circular Linked Lists"
   ]
  },
  {
   "cell_type": "markdown",
   "id": "ff479a04",
   "metadata": {},
   "source": [
    "A Singly Linked Lists Last node point to NULL"
   ]
  },
  {
   "cell_type": "markdown",
   "id": "aa71cd02",
   "metadata": {},
   "source": [
    "# Operations"
   ]
  },
  {
   "cell_type": "markdown",
   "id": "bfca80cc",
   "metadata": {},
   "source": [
    "1 Create a Linked Lists\n",
    "\n",
    "2 Insert New Element in the Linked Lists\n",
    "\n",
    "3 Delete Elements from the Linked Lists\n",
    "\n",
    "4 Search An Element in a Linked Lists\n",
    "\n",
    "5 Sort the Linked Lists"
   ]
  },
  {
   "cell_type": "code",
   "execution_count": 3,
   "id": "cd91fbd2",
   "metadata": {},
   "outputs": [],
   "source": [
    "#Create a Linked List\n",
    "class Node:\n",
    "    def __init__(self,data,next=None):\n",
    "        self.data=data\n",
    "        self.next=next\n",
    "        \n",
    "class LinkedLists:\n",
    "    def __init__(self,head=None):\n",
    "        self.head=head"
   ]
  },
  {
   "cell_type": "code",
   "execution_count": 4,
   "id": "844fbed4",
   "metadata": {},
   "outputs": [],
   "source": [
    "#Adding Elements\n",
    "class Node:\n",
    "    def __init__(self,data,next=None):\n",
    "        self.data=data\n",
    "        self.next=next\n",
    "        \n",
    "class LinkedLists:\n",
    "    def __init__(self,head=None):\n",
    "        self.head=head\n",
    "        \n",
    "    def add(self,data):\n",
    "        new=Node(data)\n",
    "        if(self.head):\n",
    "            temp=self.head\n",
    "            while(temp.next!=None):\n",
    "                temp=temp.next\n",
    "            temp.next=new\n",
    "        else:\n",
    "            self.head=new"
   ]
  },
  {
   "cell_type": "code",
   "execution_count": 5,
   "id": "8ab394a8",
   "metadata": {},
   "outputs": [],
   "source": [
    "#printing the list\n",
    "class Node:\n",
    "    def __init__(self,data,next=None):\n",
    "        self.data=data\n",
    "        self.next=next\n",
    "        \n",
    "class LinkedLists:\n",
    "    def __init__(self,head=None):\n",
    "        self.head=head\n",
    "        \n",
    "    def add(self,data):\n",
    "        new=Node(data)\n",
    "        if(self.head):\n",
    "            temp=self.head\n",
    "            while(temp.next!=None):\n",
    "                temp=temp.next\n",
    "            temp.next=new\n",
    "        else:\n",
    "            self.head=new\n",
    "            \n",
    "    def List(self,first=None):\n",
    "        self.first=first\n",
    "        first=self.head\n",
    "        while(first):\n",
    "            print(first.data)\n",
    "            first=first.next"
   ]
  },
  {
   "cell_type": "code",
   "execution_count": 39,
   "id": "a9c64bc7",
   "metadata": {},
   "outputs": [
    {
     "name": "stdout",
     "output_type": "stream",
     "text": [
      "20 -> 30 -> 40 -> 50 -> Null\n"
     ]
    }
   ],
   "source": [
    "#first Look at the linked Lists\n",
    "class Node:\n",
    "    def __init__(self,data,next=None):\n",
    "        self.data=data\n",
    "        self.next=next\n",
    "        \n",
    "class LinkedLists:\n",
    "    def __init__(self,head=None):\n",
    "        self.head=head\n",
    "        \n",
    "    def add(self,data):\n",
    "        new=Node(data)\n",
    "        if(self.head):\n",
    "            temp=self.head\n",
    "            while(temp.next!=None):\n",
    "                temp=temp.next\n",
    "            temp.next=new\n",
    "        else:\n",
    "            self.head=new\n",
    "            \n",
    "    def List(self,first=None):\n",
    "        self.first=first\n",
    "        first=self.head\n",
    "        while(first):\n",
    "            print(first.data,end=\" -> \")\n",
    "            first=first.next\n",
    "        print(\"Null\")    \n",
    "            \n",
    "obj=LinkedLists()\n",
    "obj.add(20)\n",
    "obj.add(30)\n",
    "obj.add(40)\n",
    "obj.add(50)\n",
    "obj.List()\n"
   ]
  },
  {
   "cell_type": "code",
   "execution_count": 40,
   "id": "95d805d4",
   "metadata": {},
   "outputs": [
    {
     "name": "stdout",
     "output_type": "stream",
     "text": [
      "20 -> 30 -> 40 -> 50 -> Null\n",
      "\n",
      "\n",
      "10 -> 20 -> 30 -> 40 -> 50 -> Null\n"
     ]
    }
   ],
   "source": [
    "#Inserting value in a linked List in the begning\n",
    "class Node:\n",
    "    def __init__(self,data,next=None):\n",
    "        self.data=data\n",
    "        self.next=next\n",
    "        \n",
    "class LinkedLists:\n",
    "    def __init__(self,head=None):\n",
    "        self.head=head\n",
    "        \n",
    "    def add(self,data):\n",
    "        new=Node(data)\n",
    "        if(self.head):\n",
    "            temp=self.head\n",
    "            while(temp.next!=None):\n",
    "                temp=temp.next\n",
    "            temp.next=new\n",
    "        else:\n",
    "            self.head=new\n",
    "            \n",
    "    def List(self,first=None):\n",
    "        self.first=first\n",
    "        first=self.head\n",
    "        while(first):\n",
    "            print(first.data,end=\" -> \")\n",
    "            first=first.next\n",
    "        print('Null')     \n",
    "            \n",
    "    def insert(self,n):\n",
    "        self.n=n\n",
    "        newNode=Node(n)\n",
    "        newNode.next=self.head\n",
    "        self.head=newNode       \n",
    "            \n",
    "obj1=LinkedLists()\n",
    "obj1.add(20)\n",
    "obj1.add(30)\n",
    "obj1.add(40)\n",
    "obj1.add(50)\n",
    "obj1.List()\n",
    "\n",
    "\n",
    "print(\"\\n\")\n",
    "    \n",
    "obj1.insert(10)\n",
    "obj1.List()"
   ]
  },
  {
   "cell_type": "code",
   "execution_count": 41,
   "id": "1cb5affc",
   "metadata": {},
   "outputs": [
    {
     "name": "stdout",
     "output_type": "stream",
     "text": [
      "10 -> 20 -> 30 -> Null\n",
      "\n",
      "\n",
      "10 -> 20 -> 30 -> 40 -> Null\n"
     ]
    }
   ],
   "source": [
    "#Inserting the value in the end of Linked Lists\n",
    "class Node:\n",
    "    def __init__(self,data,next=None):\n",
    "        self.data=data\n",
    "        self.next=next\n",
    "        \n",
    "class LinkedLists:\n",
    "    def __init__(self,head=None):\n",
    "        self.head=head\n",
    "        \n",
    "    def add(self,data):\n",
    "        new=Node(data)\n",
    "        if(self.head):\n",
    "            temp=self.head\n",
    "            while(temp.next!=None):\n",
    "                temp=temp.next\n",
    "            temp.next=new\n",
    "        else:\n",
    "            self.head=new\n",
    "            \n",
    "    def List(self,first=None):\n",
    "        self.first=first\n",
    "        first=self.head\n",
    "        while(first):\n",
    "            print(first.data,end=\" -> \")\n",
    "            first=first.next\n",
    "        print('Null') \n",
    "\n",
    "    def insertend(self,x):\n",
    "        self.x=x\n",
    "        x=Node(x)\n",
    "        last_node=self.head\n",
    "        while(last_node.next):\n",
    "            last_node=last_node.next\n",
    "        last_node.next=x\n",
    "    \n",
    "obj2=LinkedLists()\n",
    "obj2.add(10)\n",
    "obj2.add(20)\n",
    "obj2.add(30)\n",
    "obj2.List()\n",
    "print('\\n')\n",
    "obj2.insertend(40)\n",
    "obj2.List()"
   ]
  },
  {
   "cell_type": "code",
   "execution_count": 10,
   "id": "7a0ea810",
   "metadata": {},
   "outputs": [
    {
     "name": "stdout",
     "output_type": "stream",
     "text": [
      "10 -> 20 -> 40 -> Null\n",
      "\n",
      "\n",
      "10 -> 20 -> 40 -> Null\n"
     ]
    }
   ],
   "source": [
    "#inserting the node sfter a given node\n",
    "class Node:\n",
    "    def __init__(self,data,next=None):\n",
    "        self.data=data\n",
    "        self.next=next\n",
    "        \n",
    "class LinkedLists:\n",
    "    def __init__(self,head=None):\n",
    "        self.head=head\n",
    "        \n",
    "    def add(self,data):\n",
    "        new=Node(data)\n",
    "        if(self.head):\n",
    "            temp=self.head\n",
    "            while(temp.next!=None):\n",
    "                temp=temp.next\n",
    "            temp.next=new\n",
    "        else:\n",
    "            self.head=new\n",
    "            \n",
    "    def List(self,first=None):\n",
    "        self.first=first\n",
    "        first=self.head\n",
    "        while(first):\n",
    "            print(first.data,end=\" -> \")\n",
    "            first=first.next\n",
    "        print('Null')\n",
    "\n",
    "    def insertmid(self,data,x):\n",
    "        self.data=data\n",
    "        self.x=x\n",
    "        temp = self.head\n",
    "        newNode=Node(data)\n",
    "        while(temp):\n",
    "            if(temp.data==x):\n",
    "                newNode.next=temp.next\n",
    "                temp.next=newNode\n",
    "            temp=temp.next\n",
    "\n",
    "obj3=LinkedLists()\n",
    "obj3.add(10)\n",
    "obj3.add(20)\n",
    "obj3.add(40)\n",
    "obj3.List()\n",
    "print('\\n')\n",
    "obj3.insertmid(20,0)\n",
    "obj3.List()        "
   ]
  },
  {
   "cell_type": "code",
   "execution_count": null,
   "id": "d5c73d92",
   "metadata": {},
   "outputs": [],
   "source": []
  },
  {
   "cell_type": "code",
   "execution_count": null,
   "id": "da5f87be",
   "metadata": {},
   "outputs": [],
   "source": []
  }
 ],
 "metadata": {
  "kernelspec": {
   "display_name": "Python 3 (ipykernel)",
   "language": "python",
   "name": "python3"
  },
  "language_info": {
   "codemirror_mode": {
    "name": "ipython",
    "version": 3
   },
   "file_extension": ".py",
   "mimetype": "text/x-python",
   "name": "python",
   "nbconvert_exporter": "python",
   "pygments_lexer": "ipython3",
   "version": "3.8.8"
  }
 },
 "nbformat": 4,
 "nbformat_minor": 5
}
