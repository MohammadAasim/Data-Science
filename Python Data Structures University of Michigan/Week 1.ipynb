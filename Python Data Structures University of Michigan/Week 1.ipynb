{
 "cells": [
  {
   "cell_type": "markdown",
   "id": "00e1fe5d",
   "metadata": {},
   "source": [
    "# String Data Type"
   ]
  },
  {
   "cell_type": "markdown",
   "id": "18302c4c",
   "metadata": {},
   "source": [
    "- A string is a sequence of characters\n",
    "- A String literal uses quotes 'Hello' or \"Hello\"\n",
    "- For string,+ means 'Concatenate'\n",
    "- When a string contains numbers it is still a string\n",
    "- We can convert numbers in a string into a number using int()"
   ]
  },
  {
   "cell_type": "code",
   "execution_count": 2,
   "id": "911e37be",
   "metadata": {},
   "outputs": [
    {
     "name": "stdout",
     "output_type": "stream",
     "text": [
      "HelloAasim\n"
     ]
    }
   ],
   "source": [
    "str1=\"Hello\"\n",
    "str2=\"Aasim\"\n",
    "z=str1+str2\n",
    "print(z)"
   ]
  },
  {
   "cell_type": "code",
   "execution_count": 3,
   "id": "1d433055",
   "metadata": {},
   "outputs": [
    {
     "name": "stdout",
     "output_type": "stream",
     "text": [
      "124\n"
     ]
    }
   ],
   "source": [
    "str3='123'\n",
    "x=int(str3)+1\n",
    "print(x)"
   ]
  },
  {
   "cell_type": "markdown",
   "id": "3f671370",
   "metadata": {},
   "source": [
    "### Reading and Coverting"
   ]
  },
  {
   "cell_type": "code",
   "execution_count": 5,
   "id": "03883c2d",
   "metadata": {},
   "outputs": [
    {
     "name": "stdout",
     "output_type": "stream",
     "text": [
      "Enter : Aasim\n",
      "Aasim\n"
     ]
    }
   ],
   "source": [
    "name=input(\"Enter : \")\n",
    "print(name)"
   ]
  },
  {
   "cell_type": "code",
   "execution_count": 8,
   "id": "0894b929",
   "metadata": {},
   "outputs": [
    {
     "name": "stdout",
     "output_type": "stream",
     "text": [
      "Enter : 100\n",
      "90\n"
     ]
    }
   ],
   "source": [
    "apple=input(\"Enter : \")\n",
    "#x=apple-10 #  gives error  bcz apple value string\n",
    "x=int(apple)-10\n",
    "print(x)"
   ]
  },
  {
   "cell_type": "markdown",
   "id": "dcedfba5",
   "metadata": {},
   "source": [
    "### Looking Inside string"
   ]
  },
  {
   "cell_type": "code",
   "execution_count": 5,
   "id": "2870295c",
   "metadata": {},
   "outputs": [
    {
     "name": "stdout",
     "output_type": "stream",
     "text": [
      "a\n"
     ]
    }
   ],
   "source": [
    "fruit='banana'\n",
    "letter=fruit[1]\n",
    "print(letter)"
   ]
  },
  {
   "cell_type": "code",
   "execution_count": 6,
   "id": "6ce5b3ac",
   "metadata": {},
   "outputs": [
    {
     "name": "stdout",
     "output_type": "stream",
     "text": [
      "n\n"
     ]
    }
   ],
   "source": [
    "x=3\n",
    "w=fruit[x-1]\n",
    "print(w)"
   ]
  },
  {
   "cell_type": "markdown",
   "id": "672ca2e2",
   "metadata": {},
   "source": [
    "### String have Length"
   ]
  },
  {
   "cell_type": "markdown",
   "id": "40e97b57",
   "metadata": {},
   "source": [
    "#### Len Function"
   ]
  },
  {
   "cell_type": "code",
   "execution_count": 9,
   "id": "8e94ddd7",
   "metadata": {},
   "outputs": [
    {
     "name": "stdout",
     "output_type": "stream",
     "text": [
      "6\n"
     ]
    }
   ],
   "source": [
    "fruit='banana'\n",
    "x=len(fruit)\n",
    "print(x)"
   ]
  },
  {
   "cell_type": "markdown",
   "id": "36ce41df",
   "metadata": {},
   "source": [
    "### Loopig Through Strings"
   ]
  },
  {
   "cell_type": "code",
   "execution_count": 10,
   "id": "b94fbab1",
   "metadata": {},
   "outputs": [
    {
     "name": "stdout",
     "output_type": "stream",
     "text": [
      "0 b\n",
      "1 a\n",
      "2 n\n",
      "3 a\n",
      "4 n\n",
      "5 a\n"
     ]
    }
   ],
   "source": [
    "fruit='banana'\n",
    "index=0\n",
    "while index<len(fruit):\n",
    "    letter=fruit[index]\n",
    "    print(index,letter)\n",
    "    index=index+1"
   ]
  },
  {
   "cell_type": "code",
   "execution_count": 11,
   "id": "225a731c",
   "metadata": {},
   "outputs": [
    {
     "name": "stdout",
     "output_type": "stream",
     "text": [
      "b\n",
      "a\n",
      "n\n",
      "a\n",
      "n\n",
      "a\n"
     ]
    }
   ],
   "source": [
    "fruit='banana'\n",
    "for letter in fruit:\n",
    "    print(letter)"
   ]
  },
  {
   "cell_type": "code",
   "execution_count": 14,
   "id": "6c79c9fb",
   "metadata": {},
   "outputs": [
    {
     "name": "stdout",
     "output_type": "stream",
     "text": [
      "b\n",
      "a\n",
      "n\n",
      "a\n",
      "n\n",
      "a\n"
     ]
    }
   ],
   "source": [
    "fruit='banana'\n",
    "for letter in fruit:\n",
    "    print(letter)"
   ]
  },
  {
   "cell_type": "markdown",
   "id": "64f669b6",
   "metadata": {},
   "source": [
    "### Looping and Counting"
   ]
  },
  {
   "cell_type": "code",
   "execution_count": 15,
   "id": "2551236a",
   "metadata": {},
   "outputs": [
    {
     "name": "stdout",
     "output_type": "stream",
     "text": [
      "3\n"
     ]
    }
   ],
   "source": [
    "word='banana'\n",
    "count=0\n",
    "for letter in word:\n",
    "    if letter == 'a':\n",
    "        count=count+1\n",
    "print(count)        "
   ]
  },
  {
   "cell_type": "markdown",
   "id": "715eab75",
   "metadata": {},
   "source": [
    "### Slicing Strings"
   ]
  },
  {
   "cell_type": "code",
   "execution_count": 16,
   "id": "1661a9f9",
   "metadata": {},
   "outputs": [
    {
     "name": "stdout",
     "output_type": "stream",
     "text": [
      "Mont\n"
     ]
    }
   ],
   "source": [
    "s='Monty Python'\n",
    "print(s[0:4])"
   ]
  },
  {
   "cell_type": "code",
   "execution_count": 18,
   "id": "32fb936a",
   "metadata": {},
   "outputs": [
    {
     "name": "stdout",
     "output_type": "stream",
     "text": [
      "Python\n"
     ]
    }
   ],
   "source": [
    "print(s[6:20])"
   ]
  },
  {
   "cell_type": "code",
   "execution_count": 20,
   "id": "a13ac6bc",
   "metadata": {},
   "outputs": [
    {
     "name": "stdout",
     "output_type": "stream",
     "text": [
      "Mo\n"
     ]
    }
   ],
   "source": [
    "print(s[:2])"
   ]
  },
  {
   "cell_type": "code",
   "execution_count": 21,
   "id": "9cd92101",
   "metadata": {},
   "outputs": [
    {
     "name": "stdout",
     "output_type": "stream",
     "text": [
      "thon\n"
     ]
    }
   ],
   "source": [
    "print(s[8:])"
   ]
  },
  {
   "cell_type": "code",
   "execution_count": 22,
   "id": "aee10d6a",
   "metadata": {},
   "outputs": [
    {
     "name": "stdout",
     "output_type": "stream",
     "text": [
      "Monty Python\n"
     ]
    }
   ],
   "source": [
    "print(s[:])"
   ]
  },
  {
   "cell_type": "markdown",
   "id": "05e8ebd9",
   "metadata": {},
   "source": [
    "#### Reverse String"
   ]
  },
  {
   "cell_type": "code",
   "execution_count": 19,
   "id": "09be3c98",
   "metadata": {},
   "outputs": [
    {
     "name": "stdout",
     "output_type": "stream",
     "text": [
      "nohtyP ytnoM\n"
     ]
    }
   ],
   "source": [
    "print(s[::-1])"
   ]
  },
  {
   "cell_type": "markdown",
   "id": "59212855",
   "metadata": {},
   "source": [
    "# Manipulating Strings"
   ]
  },
  {
   "cell_type": "markdown",
   "id": "9eaf71d8",
   "metadata": {},
   "source": [
    "### String Concatenation"
   ]
  },
  {
   "cell_type": "code",
   "execution_count": 24,
   "id": "2cc2c1e0",
   "metadata": {},
   "outputs": [
    {
     "name": "stdout",
     "output_type": "stream",
     "text": [
      "HelloAasim\n"
     ]
    }
   ],
   "source": [
    "a='Hello'\n",
    "b=a+'Aasim'\n",
    "print(b)"
   ]
  },
  {
   "cell_type": "code",
   "execution_count": 25,
   "id": "5704291a",
   "metadata": {},
   "outputs": [
    {
     "name": "stdout",
     "output_type": "stream",
     "text": [
      "Hello Aasim\n"
     ]
    }
   ],
   "source": [
    "a='Hello'\n",
    "b=a+\" \"+'Aasim'\n",
    "print(b)"
   ]
  },
  {
   "cell_type": "markdown",
   "id": "a85a7df4",
   "metadata": {},
   "source": [
    "### Using in as a Logical Operator"
   ]
  },
  {
   "cell_type": "code",
   "execution_count": 26,
   "id": "816a12f7",
   "metadata": {},
   "outputs": [
    {
     "data": {
      "text/plain": [
       "True"
      ]
     },
     "execution_count": 26,
     "metadata": {},
     "output_type": "execute_result"
    }
   ],
   "source": [
    "fruit='banana'\n",
    "'n' in fruit"
   ]
  },
  {
   "cell_type": "code",
   "execution_count": 27,
   "id": "bd77c1dc",
   "metadata": {},
   "outputs": [
    {
     "name": "stdout",
     "output_type": "stream",
     "text": [
      "Found it!\n"
     ]
    }
   ],
   "source": [
    "if 'a' in fruit:\n",
    "    print(\"Found it!\")"
   ]
  },
  {
   "cell_type": "code",
   "execution_count": 28,
   "id": "9f350f2b",
   "metadata": {},
   "outputs": [
    {
     "data": {
      "text/plain": [
       "False"
      ]
     },
     "execution_count": 28,
     "metadata": {},
     "output_type": "execute_result"
    }
   ],
   "source": [
    "fruit='banana'\n",
    "'m' in fruit"
   ]
  },
  {
   "cell_type": "markdown",
   "id": "beb0b1e3",
   "metadata": {},
   "source": [
    "### String Comparison"
   ]
  },
  {
   "cell_type": "code",
   "execution_count": 29,
   "id": "1cf1bbdb",
   "metadata": {},
   "outputs": [
    {
     "name": "stdout",
     "output_type": "stream",
     "text": [
      "All right\n"
     ]
    }
   ],
   "source": [
    "if word == 'banana':\n",
    "    print('All right')"
   ]
  },
  {
   "cell_type": "markdown",
   "id": "3a312d13",
   "metadata": {},
   "source": [
    "### String Library"
   ]
  },
  {
   "cell_type": "code",
   "execution_count": 31,
   "id": "81b4cf9f",
   "metadata": {},
   "outputs": [
    {
     "name": "stdout",
     "output_type": "stream",
     "text": [
      "hello aasim\n",
      "HELLO AASIM\n",
      "Hello Aasim\n"
     ]
    }
   ],
   "source": [
    "Greet='Hello Aasim'\n",
    "Lower_Case=Greet.lower()\n",
    "Upper_Case=Greet.upper()\n",
    "Title_Case=Greet.title()\n",
    "print(Lower_Case)\n",
    "print(Upper_Case)\n",
    "print(Title_Case)\n"
   ]
  },
  {
   "cell_type": "markdown",
   "id": "dcd779de",
   "metadata": {},
   "source": [
    "### Type Of String"
   ]
  },
  {
   "cell_type": "code",
   "execution_count": 32,
   "id": "d246cc08",
   "metadata": {},
   "outputs": [],
   "source": [
    "stuff='Hello World'"
   ]
  },
  {
   "cell_type": "code",
   "execution_count": 33,
   "id": "432e31d1",
   "metadata": {},
   "outputs": [
    {
     "data": {
      "text/plain": [
       "str"
      ]
     },
     "execution_count": 33,
     "metadata": {},
     "output_type": "execute_result"
    }
   ],
   "source": [
    "type(stuff)"
   ]
  },
  {
   "cell_type": "code",
   "execution_count": 34,
   "id": "8b63aa6c",
   "metadata": {},
   "outputs": [
    {
     "data": {
      "text/plain": [
       "['__add__',\n",
       " '__class__',\n",
       " '__contains__',\n",
       " '__delattr__',\n",
       " '__dir__',\n",
       " '__doc__',\n",
       " '__eq__',\n",
       " '__format__',\n",
       " '__ge__',\n",
       " '__getattribute__',\n",
       " '__getitem__',\n",
       " '__getnewargs__',\n",
       " '__gt__',\n",
       " '__hash__',\n",
       " '__init__',\n",
       " '__init_subclass__',\n",
       " '__iter__',\n",
       " '__le__',\n",
       " '__len__',\n",
       " '__lt__',\n",
       " '__mod__',\n",
       " '__mul__',\n",
       " '__ne__',\n",
       " '__new__',\n",
       " '__reduce__',\n",
       " '__reduce_ex__',\n",
       " '__repr__',\n",
       " '__rmod__',\n",
       " '__rmul__',\n",
       " '__setattr__',\n",
       " '__sizeof__',\n",
       " '__str__',\n",
       " '__subclasshook__',\n",
       " 'capitalize',\n",
       " 'casefold',\n",
       " 'center',\n",
       " 'count',\n",
       " 'encode',\n",
       " 'endswith',\n",
       " 'expandtabs',\n",
       " 'find',\n",
       " 'format',\n",
       " 'format_map',\n",
       " 'index',\n",
       " 'isalnum',\n",
       " 'isalpha',\n",
       " 'isascii',\n",
       " 'isdecimal',\n",
       " 'isdigit',\n",
       " 'isidentifier',\n",
       " 'islower',\n",
       " 'isnumeric',\n",
       " 'isprintable',\n",
       " 'isspace',\n",
       " 'istitle',\n",
       " 'isupper',\n",
       " 'join',\n",
       " 'ljust',\n",
       " 'lower',\n",
       " 'lstrip',\n",
       " 'maketrans',\n",
       " 'partition',\n",
       " 'replace',\n",
       " 'rfind',\n",
       " 'rindex',\n",
       " 'rjust',\n",
       " 'rpartition',\n",
       " 'rsplit',\n",
       " 'rstrip',\n",
       " 'split',\n",
       " 'splitlines',\n",
       " 'startswith',\n",
       " 'strip',\n",
       " 'swapcase',\n",
       " 'title',\n",
       " 'translate',\n",
       " 'upper',\n",
       " 'zfill']"
      ]
     },
     "execution_count": 34,
     "metadata": {},
     "output_type": "execute_result"
    }
   ],
   "source": [
    "dir(stuff)"
   ]
  },
  {
   "cell_type": "code",
   "execution_count": 38,
   "id": "6bcdf0af",
   "metadata": {},
   "outputs": [],
   "source": [
    "str=\"Hello World\""
   ]
  },
  {
   "cell_type": "code",
   "execution_count": 40,
   "id": "c5003c11",
   "metadata": {},
   "outputs": [
    {
     "data": {
      "text/plain": [
       "'Hello world'"
      ]
     },
     "execution_count": 40,
     "metadata": {},
     "output_type": "execute_result"
    }
   ],
   "source": [
    "str.capitalize()# ABC ----> Abc"
   ]
  },
  {
   "cell_type": "code",
   "execution_count": 48,
   "id": "7745db6d",
   "metadata": {},
   "outputs": [
    {
     "name": "stdout",
     "output_type": "stream",
     "text": [
      "6\n"
     ]
    }
   ],
   "source": [
    "findChar=str.find('World')\n",
    "print(findChar)"
   ]
  },
  {
   "cell_type": "code",
   "execution_count": 49,
   "id": "44e6f068",
   "metadata": {},
   "outputs": [
    {
     "data": {
      "text/plain": [
       "'HELLO WORLD'"
      ]
     },
     "execution_count": 49,
     "metadata": {},
     "output_type": "execute_result"
    }
   ],
   "source": [
    "str.upper()"
   ]
  },
  {
   "cell_type": "code",
   "execution_count": 50,
   "id": "16808c45",
   "metadata": {},
   "outputs": [
    {
     "data": {
      "text/plain": [
       "'hello world'"
      ]
     },
     "execution_count": 50,
     "metadata": {},
     "output_type": "execute_result"
    }
   ],
   "source": [
    "str.lower()"
   ]
  },
  {
   "cell_type": "code",
   "execution_count": 51,
   "id": "be57b643",
   "metadata": {},
   "outputs": [
    {
     "data": {
      "text/plain": [
       "'Hello World'"
      ]
     },
     "execution_count": 51,
     "metadata": {},
     "output_type": "execute_result"
    }
   ],
   "source": [
    "str.title()"
   ]
  },
  {
   "cell_type": "markdown",
   "id": "be1b7081",
   "metadata": {},
   "source": [
    "### Seaching and Replacing"
   ]
  },
  {
   "cell_type": "code",
   "execution_count": 55,
   "id": "c94a0907",
   "metadata": {},
   "outputs": [
    {
     "name": "stdout",
     "output_type": "stream",
     "text": [
      "Hello Aasim\n"
     ]
    }
   ],
   "source": [
    "new_str=str.replace('World','Aasim')\n",
    "print(new_str)"
   ]
  },
  {
   "cell_type": "code",
   "execution_count": 56,
   "id": "0c4c33d2",
   "metadata": {},
   "outputs": [
    {
     "name": "stdout",
     "output_type": "stream",
     "text": [
      "Hellx Wxrld\n"
     ]
    }
   ],
   "source": [
    "char_str=str.replace('o','x')\n",
    "print(char_str)"
   ]
  },
  {
   "cell_type": "markdown",
   "id": "3c81a83c",
   "metadata": {},
   "source": [
    "### Stripping whitespace"
   ]
  },
  {
   "cell_type": "code",
   "execution_count": 61,
   "id": "36f272c7",
   "metadata": {},
   "outputs": [
    {
     "data": {
      "text/plain": [
       "'Hello World  '"
      ]
     },
     "execution_count": 61,
     "metadata": {},
     "output_type": "execute_result"
    }
   ],
   "source": [
    "Str='       Hello World  '\n",
    "Str.lstrip()"
   ]
  },
  {
   "cell_type": "code",
   "execution_count": 62,
   "id": "10e73380",
   "metadata": {},
   "outputs": [
    {
     "data": {
      "text/plain": [
       "'       Hello World'"
      ]
     },
     "execution_count": 62,
     "metadata": {},
     "output_type": "execute_result"
    }
   ],
   "source": [
    "Str.rstrip()"
   ]
  },
  {
   "cell_type": "code",
   "execution_count": 63,
   "id": "8e69b4cc",
   "metadata": {},
   "outputs": [
    {
     "data": {
      "text/plain": [
       "'Hello World'"
      ]
     },
     "execution_count": 63,
     "metadata": {},
     "output_type": "execute_result"
    }
   ],
   "source": [
    "Str.strip()"
   ]
  },
  {
   "cell_type": "markdown",
   "id": "4f6db6b7",
   "metadata": {},
   "source": [
    "### Prefixes"
   ]
  },
  {
   "cell_type": "code",
   "execution_count": 65,
   "id": "40dd6cca",
   "metadata": {},
   "outputs": [
    {
     "data": {
      "text/plain": [
       "True"
      ]
     },
     "execution_count": 65,
     "metadata": {},
     "output_type": "execute_result"
    }
   ],
   "source": [
    "line='Please have a nice day'\n",
    "line.startswith(\"Please\")"
   ]
  },
  {
   "cell_type": "code",
   "execution_count": 68,
   "id": "c5c5e068",
   "metadata": {},
   "outputs": [
    {
     "data": {
      "text/plain": [
       "False"
      ]
     },
     "execution_count": 68,
     "metadata": {},
     "output_type": "execute_result"
    }
   ],
   "source": [
    "line.startswith(\"p\")"
   ]
  },
  {
   "cell_type": "markdown",
   "id": "8c4545e3",
   "metadata": {},
   "source": [
    "### Parsing and Extracting"
   ]
  },
  {
   "cell_type": "code",
   "execution_count": 69,
   "id": "e8712137",
   "metadata": {},
   "outputs": [
    {
     "name": "stdout",
     "output_type": "stream",
     "text": [
      "21\n"
     ]
    }
   ],
   "source": [
    "data='From stephen,marquard@uct.ac.za Sat Jan 5 09:14:16 2008'\n",
    "atpos=data.find('@')\n",
    "print(atpos)"
   ]
  },
  {
   "cell_type": "code",
   "execution_count": 71,
   "id": "84c1902b",
   "metadata": {},
   "outputs": [
    {
     "name": "stdout",
     "output_type": "stream",
     "text": [
      "31\n"
     ]
    }
   ],
   "source": [
    "sppos=data.find(' ',atpos)\n",
    "print(sppos)"
   ]
  },
  {
   "cell_type": "code",
   "execution_count": 72,
   "id": "d2145445",
   "metadata": {},
   "outputs": [
    {
     "name": "stdout",
     "output_type": "stream",
     "text": [
      "uct.ac.za\n"
     ]
    }
   ],
   "source": [
    "host=data[atpos+1 : sppos]\n",
    "print(host)"
   ]
  },
  {
   "cell_type": "code",
   "execution_count": 79,
   "id": "cf53cc54",
   "metadata": {},
   "outputs": [
    {
     "name": "stdout",
     "output_type": "stream",
     "text": [
      "uct\n"
     ]
    }
   ],
   "source": [
    "x = 'From marquard@uct.ac.za'\n",
    "print(x[14:17])"
   ]
  },
  {
   "cell_type": "code",
   "execution_count": 80,
   "id": "179e1415",
   "metadata": {},
   "outputs": [
    {
     "name": "stdout",
     "output_type": "stream",
     "text": [
      ".ma\n"
     ]
    }
   ],
   "source": [
    "data = 'From stephen.marquard@uct.ac.za Sat Jan  5 09:14:16 2008'\n",
    "pos = data.find('.')\n",
    "print(data[pos:pos+3])"
   ]
  },
  {
   "cell_type": "code",
   "execution_count": 84,
   "id": "edee5126",
   "metadata": {},
   "outputs": [
    {
     "name": "stdout",
     "output_type": "stream",
     "text": [
      "q\n"
     ]
    }
   ],
   "source": [
    "x = 'From marquard@uct.ac.za'\n",
    "print(x[8])"
   ]
  },
  {
   "cell_type": "code",
   "execution_count": 90,
   "id": "b5457e2c",
   "metadata": {},
   "outputs": [
    {
     "name": "stdout",
     "output_type": "stream",
     "text": [
      "0.8475\n"
     ]
    }
   ],
   "source": [
    "text = \"X-DSPAM-Confidence:    0.8475\"\n",
    "atpos=text.find(':')\n",
    "sppos=text[atpos+1:]\n",
    "print(sppos.lstrip())"
   ]
  },
  {
   "cell_type": "code",
   "execution_count": 91,
   "id": "d67a5fb2",
   "metadata": {},
   "outputs": [
    {
     "name": "stdout",
     "output_type": "stream",
     "text": [
      "0.8475\n"
     ]
    }
   ],
   "source": [
    "text = \"X-DSPAM-Confidence:    0.8475\"\n",
    "atpos=text.find(':')\n",
    "sppos=text[atpos+1:]\n",
    "end=float(sppos)\n",
    "print(end)\n"
   ]
  },
  {
   "cell_type": "markdown",
   "id": "9be49571",
   "metadata": {},
   "source": [
    "###### 6.5 Write code using find() and string slicing (see section 6.10) to extract the number at the end of the line below. Convert the extracted value to a floating point number and print it out."
   ]
  },
  {
   "cell_type": "code",
   "execution_count": 92,
   "id": "d5276738",
   "metadata": {},
   "outputs": [
    {
     "name": "stdout",
     "output_type": "stream",
     "text": [
      "0.8475\n"
     ]
    }
   ],
   "source": [
    "text = \"X-DSPAM-Confidence:    0.8475\"\n",
    "atpos=text.find(':')\n",
    "sppos=text[atpos+1:]\n",
    "end=float(sppos)\n",
    "print(end)\n"
   ]
  },
  {
   "cell_type": "code",
   "execution_count": null,
   "id": "f2c49572",
   "metadata": {},
   "outputs": [],
   "source": []
  }
 ],
 "metadata": {
  "kernelspec": {
   "display_name": "Python 3 (ipykernel)",
   "language": "python",
   "name": "python3"
  },
  "language_info": {
   "codemirror_mode": {
    "name": "ipython",
    "version": 3
   },
   "file_extension": ".py",
   "mimetype": "text/x-python",
   "name": "python",
   "nbconvert_exporter": "python",
   "pygments_lexer": "ipython3",
   "version": "3.8.8"
  }
 },
 "nbformat": 4,
 "nbformat_minor": 5
}
