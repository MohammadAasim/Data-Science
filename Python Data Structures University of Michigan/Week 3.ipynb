{
 "cells": [
  {
   "cell_type": "markdown",
   "id": "160ea278",
   "metadata": {},
   "source": [
    "# Files"
   ]
  },
  {
   "cell_type": "markdown",
   "id": "f99efd6e",
   "metadata": {},
   "source": [
    "##### A text file can be throught of as a sequence of lines"
   ]
  },
  {
   "cell_type": "markdown",
   "id": "d3b602e8",
   "metadata": {},
   "source": [
    "# Opening a File"
   ]
  },
  {
   "cell_type": "markdown",
   "id": "6f6b4119",
   "metadata": {},
   "source": [
    "**open()** return a 'File handle' - a variable use to perform operations on the file"
   ]
  },
  {
   "cell_type": "markdown",
   "id": "bd5c5425",
   "metadata": {},
   "source": [
    "**handle=open(filename,mode)**"
   ]
  },
  {
   "cell_type": "code",
   "execution_count": 10,
   "id": "d20bcd87",
   "metadata": {},
   "outputs": [
    {
     "name": "stdout",
     "output_type": "stream",
     "text": [
      "<_io.TextIOWrapper name='mbox.txt' mode='r' encoding='cp1252'>\n"
     ]
    }
   ],
   "source": [
    "fhand=open('mbox.txt','r')\n",
    "print(fhand)"
   ]
  },
  {
   "cell_type": "markdown",
   "id": "38542568",
   "metadata": {},
   "source": [
    "### The newline Character"
   ]
  },
  {
   "cell_type": "code",
   "execution_count": 14,
   "id": "e0d9cfc6",
   "metadata": {},
   "outputs": [],
   "source": [
    "stuff='Hello\\nWorld'"
   ]
  },
  {
   "cell_type": "code",
   "execution_count": 13,
   "id": "f1ae0b01",
   "metadata": {},
   "outputs": [
    {
     "data": {
      "text/plain": [
       "'Hello\\nWorld'"
      ]
     },
     "execution_count": 13,
     "metadata": {},
     "output_type": "execute_result"
    }
   ],
   "source": [
    "stuff"
   ]
  },
  {
   "cell_type": "code",
   "execution_count": 15,
   "id": "4b6ef765",
   "metadata": {},
   "outputs": [
    {
     "name": "stdout",
     "output_type": "stream",
     "text": [
      "Hello\n",
      "World\n"
     ]
    }
   ],
   "source": [
    "print(stuff)"
   ]
  },
  {
   "cell_type": "code",
   "execution_count": 12,
   "id": "c4b46c58",
   "metadata": {},
   "outputs": [
    {
     "data": {
      "text/plain": [
       "11"
      ]
     },
     "execution_count": 12,
     "metadata": {},
     "output_type": "execute_result"
    }
   ],
   "source": [
    "len(stuff)"
   ]
  },
  {
   "cell_type": "markdown",
   "id": "cc89cc98",
   "metadata": {},
   "source": [
    "# File Processing"
   ]
  },
  {
   "cell_type": "markdown",
   "id": "edc48a90",
   "metadata": {},
   "source": [
    "##### A text can be thought of as a sequence of lines"
   ]
  },
  {
   "cell_type": "markdown",
   "id": "9af2b1d9",
   "metadata": {},
   "source": [
    "## File Handle as Sequence"
   ]
  },
  {
   "cell_type": "code",
   "execution_count": 18,
   "id": "ce6b4e12",
   "metadata": {},
   "outputs": [
    {
     "name": "stdout",
     "output_type": "stream",
     "text": [
      "Python Data Structures\n",
      "\n",
      "So we can write some smart things, right? So a counting loop, let's just do counting. So now we actually have something to count where we don't exactly know how many things there are, right? If you go back a couple chapters, we were counting things, we knew how many things there are. But now we don't. So, we set the counter to 0, and then we loop through each line, or don't do anything with the line, count = count + 1, and we're done. We know that this file has 132045 lines, right? And away we go. So, we have built a line counter, a file length counter, just by looping through that. Simple stuff. Now sometimes, not so much when we're doing files but often when reading data from elsewhere, we want to read it all. And so this time, we will read the whole thing in with .read. Now the thing about this is, it doesn't split it into lines. It actually just reads all the stuff with a newline, all the stuff with a newline, so you've got to be careful. But of course if you print it out, it will give you all the newlines because the print will show the newlines. \n"
     ]
    }
   ],
   "source": [
    "xfile=open('mbox.txt')\n",
    "for cheese in xfile:\n",
    "    print(cheese)"
   ]
  },
  {
   "cell_type": "markdown",
   "id": "3dde2762",
   "metadata": {},
   "source": [
    "# Reading the **Whole** File"
   ]
  },
  {
   "cell_type": "code",
   "execution_count": 19,
   "id": "1641259b",
   "metadata": {},
   "outputs": [],
   "source": [
    "fhand=open('mbox.txt')\n",
    "inp=fhand.read()"
   ]
  },
  {
   "cell_type": "code",
   "execution_count": 20,
   "id": "2a32776f",
   "metadata": {},
   "outputs": [
    {
     "name": "stdout",
     "output_type": "stream",
     "text": [
      "1091\n"
     ]
    }
   ],
   "source": [
    "print(len(inp))"
   ]
  },
  {
   "cell_type": "code",
   "execution_count": 22,
   "id": "0f28d2a9",
   "metadata": {},
   "outputs": [
    {
     "name": "stdout",
     "output_type": "stream",
     "text": [
      "Python Data Structures\n"
     ]
    }
   ],
   "source": [
    "print(inp[:22])"
   ]
  },
  {
   "cell_type": "markdown",
   "id": "d7abb356",
   "metadata": {},
   "source": [
    "## Searching Through a File"
   ]
  },
  {
   "cell_type": "code",
   "execution_count": 27,
   "id": "4f1d09eb",
   "metadata": {},
   "outputs": [
    {
     "name": "stdout",
     "output_type": "stream",
     "text": [
      "From Data Structures\n",
      "\n",
      "From Python Data\n",
      "\n"
     ]
    }
   ],
   "source": [
    "fhand=open(\"mbox.txt\")\n",
    "for line in fhand:\n",
    "    if line.startswith('From'):\n",
    "        print(line)"
   ]
  },
  {
   "cell_type": "markdown",
   "id": "aa0382d7",
   "metadata": {},
   "source": [
    "## Searching Through a File (fixed)"
   ]
  },
  {
   "cell_type": "code",
   "execution_count": 28,
   "id": "c1ba2914",
   "metadata": {},
   "outputs": [
    {
     "name": "stdout",
     "output_type": "stream",
     "text": [
      "From Data Structures\n",
      "From Python Data\n"
     ]
    }
   ],
   "source": [
    "fhand=open(\"mbox.txt\")\n",
    "for line in fhand:\n",
    "    line=line.rstrip()\n",
    "    if line.startswith('From'):\n",
    "        print(line)"
   ]
  },
  {
   "cell_type": "markdown",
   "id": "fc6d5e67",
   "metadata": {},
   "source": [
    "### Skipping with Continue"
   ]
  },
  {
   "cell_type": "code",
   "execution_count": 30,
   "id": "885da969",
   "metadata": {},
   "outputs": [
    {
     "name": "stdout",
     "output_type": "stream",
     "text": [
      "From Data Structures\n",
      "From Python Data\n",
      "From Last Line\n",
      "From Data Structures\n",
      "From Python Data\n"
     ]
    }
   ],
   "source": [
    "fhand=open(\"mbox.txt\")\n",
    "for line in fhand:\n",
    "    line=line.rstrip()\n",
    "    if not line.startswith('From'):\n",
    "        continue\n",
    "    print(line)    "
   ]
  },
  {
   "cell_type": "markdown",
   "id": "4386ab88",
   "metadata": {},
   "source": [
    "### Using in to Select lines"
   ]
  },
  {
   "cell_type": "code",
   "execution_count": 31,
   "id": "50ff8d39",
   "metadata": {},
   "outputs": [
    {
     "name": "stdout",
     "output_type": "stream",
     "text": [
      "So we can write some smart things, right? So a counting loop, let's just do counting. So now we actually have something to count where we don't exactly know how many things there are, right? If you go back a couple chapters, we were counting things, we knew how many things there are. But now we don't. So, we set the counter to 0, and then we loop through each line, or don't do anything with the line, count = count + 1, and we're done. We know that this file has 132045 lines, right? And away we go. So, we have built a line counter, a file length counter, just by From looping through that. Simple stuff. Now sometimes, not so much when we're doing files but often when reading data from elsewhere, we want to read it all. And so this time, we will read the whole thing in with .read. Now the thing about this is, it doesn't split it into lines. It actually just reads all the stuff From with a newline, all the stuff with a newline, so you've got to be careful. But of course if you print it out, it will give you all the newlines because the print will show the newlines.\n"
     ]
    }
   ],
   "source": [
    "fhand=open(\"mbox.txt\")\n",
    "for line in fhand:\n",
    "    line=line.rstrip()\n",
    "    if not 'lines' in line:\n",
    "        continue\n",
    "    print(line)  "
   ]
  },
  {
   "cell_type": "code",
   "execution_count": 33,
   "id": "412c16cf",
   "metadata": {},
   "outputs": [
    {
     "name": "stdout",
     "output_type": "stream",
     "text": [
      "Enter the file name: mbox.txt\n",
      "Enter text : From\n",
      "There were 5 From lines in  mbox.txt\n"
     ]
    }
   ],
   "source": [
    "fname=input(\"Enter the file name: \")\n",
    "fhand=open(fname)\n",
    "count=0\n",
    "subject=input(\"Enter text : \")\n",
    "for line in fhand:\n",
    "    if line.startswith(subject):\n",
    "        count=count+1\n",
    "print('There were',count,subject,'lines in ',fname)        "
   ]
  },
  {
   "cell_type": "markdown",
   "id": "ed74741e",
   "metadata": {},
   "source": [
    "### Bad File Names"
   ]
  },
  {
   "cell_type": "code",
   "execution_count": 35,
   "id": "06b5fba0",
   "metadata": {},
   "outputs": [
    {
     "name": "stdout",
     "output_type": "stream",
     "text": [
      "Enter the file name: mbox.txt\n",
      "There were 5 subject lines in mbox.txt\n"
     ]
    }
   ],
   "source": [
    "fname=input(\"Enter the file name: \")\n",
    "try:\n",
    "    fhand=open(fname)\n",
    "except:\n",
    "    print('File cannot be opend:',fname)\n",
    "    quit()\n",
    "count=0\n",
    "for line in fhand:\n",
    "    if line.startswith('From'):\n",
    "        count=count+1\n",
    "print('There were',count,'subject lines in',fname)        "
   ]
  },
  {
   "cell_type": "code",
   "execution_count": 36,
   "id": "f03d2d60",
   "metadata": {},
   "outputs": [
    {
     "name": "stdout",
     "output_type": "stream",
     "text": [
      "7\n"
     ]
    }
   ],
   "source": [
    "fhand = open('mbox.txt')\n",
    "x = 0\n",
    "for line in fhand:\n",
    "       x = x + 1\n",
    "print(x)"
   ]
  },
  {
   "cell_type": "code",
   "execution_count": 38,
   "id": "cf7bd230",
   "metadata": {},
   "outputs": [],
   "source": [
    "fhand = open('mbox.txt')\n",
    "inp = fhand.read()"
   ]
  },
  {
   "cell_type": "code",
   "execution_count": 48,
   "id": "f84408f6",
   "metadata": {},
   "outputs": [
    {
     "name": "stdout",
     "output_type": "stream",
     "text": [
      "Enter file name: words.txt\n"
     ]
    }
   ],
   "source": [
    "# Use words.txt as the file name\n",
    "fname = input(\"Enter file name: \")\n",
    "fh = open(fname)\n",
    "#fh=open('words.txt')\n",
    "for lx in fh:\n",
    "    ly=lx.rstrip()\n",
    "    print(ly.upper())"
   ]
  },
  {
   "cell_type": "markdown",
   "id": "a124cf53",
   "metadata": {},
   "source": [
    "##### 7.2 Write a program that prompts for a file name, then opens that file and reads through the file, looking for lines of the form:\n",
    "X-DSPAM-Confidence:    0.8475\n",
    "Count these lines and extract the floating point values from each of the lines and compute the average of those values and produce an output as shown below. Do not use the sum() function or a variable named sum in your solution.\n",
    "You can download the sample data at http://www.py4e.com/code3/mbox-short.txt when you are testing below enter mbox-short.txt as the file name."
   ]
  },
  {
   "cell_type": "code",
   "execution_count": 49,
   "id": "159511e9",
   "metadata": {},
   "outputs": [
    {
     "name": "stdout",
     "output_type": "stream",
     "text": [
      "Enter file name: mbox-short.txt\n",
      "Done\n"
     ]
    }
   ],
   "source": [
    "# Use the file name mbox-short.txt as the file name\n",
    "fname = input(\"Enter file name: \")\n",
    "fh = open(fname)\n",
    "for line in fh:\n",
    "    if not line.startswith(\"X-DSPAM-Confidence:\"):\n",
    "        continue\n",
    "    print(line)\n",
    "print(\"Done\")\n"
   ]
  },
  {
   "cell_type": "code",
   "execution_count": 53,
   "id": "45f5c1a6",
   "metadata": {},
   "outputs": [
    {
     "name": "stdout",
     "output_type": "stream",
     "text": [
      "Enter file name: mbox-short.txt\n"
     ]
    },
    {
     "ename": "ZeroDivisionError",
     "evalue": "division by zero",
     "output_type": "error",
     "traceback": [
      "\u001b[1;31m---------------------------------------------------------------------------\u001b[0m",
      "\u001b[1;31mZeroDivisionError\u001b[0m                         Traceback (most recent call last)",
      "Input \u001b[1;32mIn [53]\u001b[0m, in \u001b[0;36m<cell line: 13>\u001b[1;34m()\u001b[0m\n\u001b[0;32m     10\u001b[0m     count \u001b[38;5;241m=\u001b[39m count \u001b[38;5;241m+\u001b[39m \u001b[38;5;241m1\u001b[39m\n\u001b[0;32m     11\u001b[0m     total \u001b[38;5;241m=\u001b[39m total \u001b[38;5;241m+\u001b[39m number\n\u001b[1;32m---> 13\u001b[0m average \u001b[38;5;241m=\u001b[39m \u001b[43mtotal\u001b[49m\u001b[38;5;241;43m/\u001b[39;49m\u001b[43mcount\u001b[49m\n\u001b[0;32m     14\u001b[0m \u001b[38;5;28mprint\u001b[39m(\u001b[38;5;124m\"\u001b[39m\u001b[38;5;124mAverage spam confidence:\u001b[39m\u001b[38;5;124m\"\u001b[39m,average)\n",
      "\u001b[1;31mZeroDivisionError\u001b[0m: division by zero"
     ]
    }
   ],
   "source": [
    "\n",
    "# Use the file name mbox-short.txt as the file name\n",
    "fname = input(\"Enter file name: \")\n",
    "fh = open(fname)\n",
    "count = 0\n",
    "total = 0\n",
    "for line in fh:\n",
    "    if not line.startswith(\"X-DSPAM-Confidence:\") : continue\n",
    "    t=line.find(\"0\")\n",
    "    number= float(line[t:])\n",
    "    count = count + 1\n",
    "    total = total + number\n",
    "\n",
    "average = total/count\n",
    "print(\"Average spam confidence:\",average)"
   ]
  },
  {
   "cell_type": "code",
   "execution_count": null,
   "id": "4a846d8c",
   "metadata": {},
   "outputs": [],
   "source": []
  }
 ],
 "metadata": {
  "kernelspec": {
   "display_name": "Python 3 (ipykernel)",
   "language": "python",
   "name": "python3"
  },
  "language_info": {
   "codemirror_mode": {
    "name": "ipython",
    "version": 3
   },
   "file_extension": ".py",
   "mimetype": "text/x-python",
   "name": "python",
   "nbconvert_exporter": "python",
   "pygments_lexer": "ipython3",
   "version": "3.8.8"
  }
 },
 "nbformat": 4,
 "nbformat_minor": 5
}
