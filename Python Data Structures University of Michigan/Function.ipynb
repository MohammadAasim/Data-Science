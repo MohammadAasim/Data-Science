{
 "cells": [
  {
   "cell_type": "markdown",
   "id": "0c751ffd",
   "metadata": {},
   "source": [
    "# Cumulative Sum"
   ]
  },
  {
   "cell_type": "markdown",
   "id": "a8bc7b6e",
   "metadata": {},
   "source": [
    "Initial Array: [1, 2, 3, 4]\n",
    "\n",
    "Cumulative Sum: [1, 3, 6, 10]"
   ]
  },
  {
   "cell_type": "code",
   "execution_count": 5,
   "id": "68a9095c",
   "metadata": {},
   "outputs": [
    {
     "data": {
      "text/plain": [
       "[1, 3, 6, 10, 15, 21, 28]"
      ]
     },
     "execution_count": 5,
     "metadata": {},
     "output_type": "execute_result"
    }
   ],
   "source": [
    "def CumulativeSum(arr):\n",
    "    new_list=[]\n",
    "    j=0\n",
    "    for i in range(0,len(arr)):\n",
    "        j += arr[i]\n",
    "        new_list.append(j)\n",
    "    return new_list\n",
    "CumulativeSum([1,2,3,4,5,6,7])"
   ]
  },
  {
   "cell_type": "markdown",
   "id": "b27bc852",
   "metadata": {},
   "source": [
    "# Positive Cumulative Sum"
   ]
  },
  {
   "cell_type": "markdown",
   "id": "b5b40e94",
   "metadata": {},
   "source": [
    "Initial Array: [1,-2,3,4,5,7]\n",
    "    \n",
    "Cumulative Sum: [1, 4, 8, 13, 20]"
   ]
  },
  {
   "cell_type": "code",
   "execution_count": 8,
   "id": "51feccaf",
   "metadata": {},
   "outputs": [
    {
     "data": {
      "text/plain": [
       "[1, 4, 8, 13, 20]"
      ]
     },
     "execution_count": 8,
     "metadata": {},
     "output_type": "execute_result"
    }
   ],
   "source": [
    "def PositiveCumulativeSum(arr):\n",
    "    new_list=[]\n",
    "    j=0\n",
    "    for i in range(0,len(arr)):\n",
    "        if(arr[i]>0):\n",
    "            j += arr[i]\n",
    "            new_list.append(j)\n",
    "    return new_list\n",
    "PositiveCumulativeSum([1,-2,3,4,5,7])    "
   ]
  },
  {
   "cell_type": "markdown",
   "id": "266bb401",
   "metadata": {},
   "source": [
    "# Identical Twins"
   ]
  },
  {
   "cell_type": "markdown",
   "id": "7d9b3247",
   "metadata": {},
   "source": [
    "Array: [1, 2, 3, 2, 1]\n",
    "    \n",
    "Number of Identical Twins: 2\n",
    "    \n",
    "Explanation:\n",
    "    \n",
    "Identical Twins: [[1, 1], [2, 2]]\n",
    "    \n",
    "Indexes: (0, 4), (1, 3)"
   ]
  },
  {
   "cell_type": "code",
   "execution_count": 10,
   "id": "121c0604",
   "metadata": {},
   "outputs": [
    {
     "ename": "SyntaxError",
     "evalue": "invalid syntax (1709222556.py, line 6)",
     "output_type": "error",
     "traceback": [
      "\u001b[1;36m  Input \u001b[1;32mIn [10]\u001b[1;36m\u001b[0m\n\u001b[1;33m    count++\u001b[0m\n\u001b[1;37m           ^\u001b[0m\n\u001b[1;31mSyntaxError\u001b[0m\u001b[1;31m:\u001b[0m invalid syntax\n"
     ]
    }
   ],
   "source": [
    "def indenticaltwins(arr):\n",
    "    count=0\n",
    "    for i in range(0,len(arr)):\n",
    "        for j in range(i,len(arr)):\n",
    "            if(arr[i]==arr[j]):\n",
    "                count++\n",
    "            else:\n",
    "                pass\n",
    "    return count                \n",
    "indenticaltwins([1,2,3,2,1])            "
   ]
  },
  {
   "cell_type": "code",
   "execution_count": null,
   "id": "24e5c9fd",
   "metadata": {},
   "outputs": [],
   "source": []
  }
 ],
 "metadata": {
  "kernelspec": {
   "display_name": "Python 3 (ipykernel)",
   "language": "python",
   "name": "python3"
  },
  "language_info": {
   "codemirror_mode": {
    "name": "ipython",
    "version": 3
   },
   "file_extension": ".py",
   "mimetype": "text/x-python",
   "name": "python",
   "nbconvert_exporter": "python",
   "pygments_lexer": "ipython3",
   "version": "3.8.8"
  }
 },
 "nbformat": 4,
 "nbformat_minor": 5
}
