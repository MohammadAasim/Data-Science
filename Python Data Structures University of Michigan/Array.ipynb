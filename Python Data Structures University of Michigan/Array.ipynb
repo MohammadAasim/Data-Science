{
 "cells": [
  {
   "cell_type": "markdown",
   "id": "0627eb1c",
   "metadata": {},
   "source": [
    "# ARRAY"
   ]
  },
  {
   "cell_type": "markdown",
   "id": "96f9eab6",
   "metadata": {},
   "source": [
    "An array can be defined as a storage or container or similar items place in contiguos locations"
   ]
  },
  {
   "cell_type": "markdown",
   "id": "0069c467",
   "metadata": {},
   "source": [
    "# Array Implementation in Python"
   ]
  },
  {
   "cell_type": "markdown",
   "id": "3ef7e028",
   "metadata": {},
   "source": [
    "1 Python Array Module\n",
    "\n",
    "2 Python Numpy Array"
   ]
  },
  {
   "cell_type": "markdown",
   "id": "22d8a15b",
   "metadata": {},
   "source": [
    "# Homogeneous Arrays"
   ]
  },
  {
   "cell_type": "markdown",
   "id": "b0f194e5",
   "metadata": {},
   "source": [
    "Homogeneos arrays will contain the elements of same data type."
   ]
  },
  {
   "cell_type": "markdown",
   "id": "90fcc0a5",
   "metadata": {},
   "source": [
    "# Hetrogeneous Arrays"
   ]
  },
  {
   "cell_type": "markdown",
   "id": "4f99c3b9",
   "metadata": {},
   "source": [
    "Hetrogeneous arrays arrays will contain the elements  that may not be of same data type"
   ]
  },
  {
   "cell_type": "markdown",
   "id": "2a4bfc57",
   "metadata": {},
   "source": [
    "# Implementation"
   ]
  },
  {
   "cell_type": "code",
   "execution_count": 1,
   "id": "ab6625fb",
   "metadata": {},
   "outputs": [],
   "source": [
    "#Python Array Module\n",
    "import array as myarray"
   ]
  },
  {
   "cell_type": "markdown",
   "id": "3e6785a2",
   "metadata": {},
   "source": [
    "# TypeCodes Available for the array modules for various data Types"
   ]
  },
  {
   "cell_type": "markdown",
   "id": "7fd1b553",
   "metadata": {},
   "source": [
    "1. 'i'-Integer type-2\n",
    "2. 'f'-Float type-4\n",
    "3. 'd'-Double type-8\n",
    "4. 'u'-unicode character-2"
   ]
  },
  {
   "cell_type": "code",
   "execution_count": 2,
   "id": "b302645b",
   "metadata": {},
   "outputs": [
    {
     "name": "stdout",
     "output_type": "stream",
     "text": [
      "i\n",
      "d\n",
      "u\n",
      "array('i', [1, 2, 3])\n",
      "array('d', [1.0, 2.1, 2.4, 2.5, 2.6])\n",
      "array('u', 'abcd')\n"
     ]
    }
   ],
   "source": [
    "#Create An Array\n",
    "arr=myarray.array('i',[1,2,3])\n",
    "arr1=myarray.array('d',[1.0,2.1,2.4,2.5,2.6])\n",
    "arr2=myarray.array('u',['a','b','c','d'])\n",
    "\n",
    "#typecodes\n",
    "print(arr.typecode)\n",
    "print(arr1.typecode)\n",
    "print(arr2.typecode)\n",
    "\n",
    "#fiest look at the array\n",
    "print(arr)\n",
    "print(arr1)\n",
    "print(arr2)"
   ]
  },
  {
   "cell_type": "code",
   "execution_count": 3,
   "id": "1e730726",
   "metadata": {},
   "outputs": [
    {
     "name": "stdout",
     "output_type": "stream",
     "text": [
      "3\n",
      "5\n",
      "4\n"
     ]
    }
   ],
   "source": [
    "#print the length of an array\n",
    "print(len(arr))\n",
    "print(len(arr1))\n",
    "print(len(arr2))"
   ]
  },
  {
   "cell_type": "code",
   "execution_count": 6,
   "id": "56f839ab",
   "metadata": {},
   "outputs": [
    {
     "name": "stdout",
     "output_type": "stream",
     "text": [
      "1 2 3 \n",
      "\n",
      "1.0 2.1 2.4 2.5 2.6 \n",
      "\n",
      "a b c d "
     ]
    }
   ],
   "source": [
    "#Print the element of array\n",
    "for i in range(0,len(arr)):\n",
    "    print(arr[i],end=\" \")\n",
    "print(\"\\n\")\n",
    "\n",
    "for i in range(0,len(arr1)):\n",
    "    print(arr1[i],end=\" \")\n",
    "print(\"\\n\")\n",
    "\n",
    "for i in range(0,len(arr2)):\n",
    "    print(arr2[i],end=\" \")    "
   ]
  },
  {
   "cell_type": "markdown",
   "id": "8fe2f1ce",
   "metadata": {},
   "source": [
    "# What is Indexing?"
   ]
  },
  {
   "cell_type": "markdown",
   "id": "b206630b",
   "metadata": {},
   "source": [
    "For Array of the length n ,yhe indexing will be the position which each element is placed in  an array.To be able to access the elements in an array.indexing comes in handy.For an array of lenth n,the indexing start from 0 and end at n-1"
   ]
  },
  {
   "cell_type": "code",
   "execution_count": 7,
   "id": "41fcf72d",
   "metadata": {},
   "outputs": [
    {
     "name": "stdout",
     "output_type": "stream",
     "text": [
      "1 2 3 4 5 6 7 8 9 10 11 12 13 14 15 16 17 18 19 20 21 22 23 24 25 26 27 28 29 30 31 32 33 34 35 36 37 38 39 40 41 42 43 44 45 46 47 48 49 50 51 52 53 54 55 56 57 58 59 60 61 62 63 64 65 66 67 68 69 70 71 72 73 74 75 76 77 78 79 80 81 82 83 84 85 86 87 88 89 90 91 92 93 94 95 96 97 98 99 \n",
      "\n",
      "26\n"
     ]
    }
   ],
   "source": [
    "#Assessing Elements froman array using index value\n",
    "x=list(range(1,100))\n",
    "new_array=myarray.array('i',x)\n",
    "\n",
    "#printing yhe array\n",
    "for i in range(0,len(new_array)):\n",
    "    print(new_array[i],end=\" \")\n",
    "print(\"\\n\")\n",
    "\n",
    "#Accessing the element at index \"25\"\n",
    "print(new_array[25])"
   ]
  },
  {
   "cell_type": "markdown",
   "id": "57e8f476",
   "metadata": {},
   "source": [
    "# Insert"
   ]
  },
  {
   "cell_type": "code",
   "execution_count": 16,
   "id": "75933680",
   "metadata": {},
   "outputs": [
    {
     "name": "stdout",
     "output_type": "stream",
     "text": [
      "3 4 5 6 7 8 9 10 \n",
      "\n",
      "1 2 3 4 5 6 7 8 9 10 \n",
      "\n",
      "1 2 3 4 5 6 7 8 9 10 11 \n",
      "\n"
     ]
    }
   ],
   "source": [
    "#Create an array\n",
    "new_arr = myarray.array('i',[3,4,5,6,7,8,9,10])\n",
    "for i in range(0,len(new_arr)):\n",
    "    print(new_arr[i],end=\" \")\n",
    "print(\"\\n\")\n",
    "\n",
    "#Adding Elements in an array using insert\n",
    "new_arr.insert(0,2)\n",
    "new_arr.insert(0,1)\n",
    "\n",
    "#printing the new array\n",
    "for i in range(0,len(new_arr)):\n",
    "    print(new_arr[i],end=\" \")\n",
    "print(\"\\n\")\n",
    "\n",
    "#Adding Elements in an array using append\n",
    "new_arr.append(11)\n",
    "for i in range(0,len(new_arr)):\n",
    "    print(new_arr[i],end=\" \")\n",
    "print(\"\\n\")"
   ]
  },
  {
   "cell_type": "markdown",
   "id": "f1cce4ff",
   "metadata": {},
   "source": [
    "# Update"
   ]
  },
  {
   "cell_type": "code",
   "execution_count": 27,
   "id": "d60572cb",
   "metadata": {},
   "outputs": [
    {
     "name": "stdout",
     "output_type": "stream",
     "text": [
      "1 2 2 4 5 \n",
      "\n",
      "1 2 3 4 5 \n",
      "\n"
     ]
    }
   ],
   "source": [
    "#Create the Array\n",
    "new_array=myarray.array('i',[1,2,2,4,5])\n",
    "\n",
    "#printing array\n",
    "for i in range(0,len(new_array)):\n",
    "    print(new_array[i],end=\" \")\n",
    "print(\"\\n\")\n",
    "\n",
    "#Update the element of array\n",
    "new_array[2]=3\n",
    "for i in range(0,len(new_array)):\n",
    "    print(new_array[i],end=\" \")\n",
    "print(\"\\n\")\n"
   ]
  },
  {
   "cell_type": "markdown",
   "id": "c65de132",
   "metadata": {},
   "source": [
    "# Delete"
   ]
  },
  {
   "cell_type": "code",
   "execution_count": 28,
   "id": "867fd137",
   "metadata": {},
   "outputs": [
    {
     "name": "stdout",
     "output_type": "stream",
     "text": [
      "1 2 3 4 \n",
      "\n",
      "1 2 3 \n",
      "\n"
     ]
    }
   ],
   "source": [
    "#delete elements in an array using pop\n",
    "#1 2 3 4 5\n",
    "new_array.pop(4)\n",
    "\n",
    "for i in range(0,len(new_array)):\n",
    "    print(new_array[i],end=\" \")\n",
    "print(\"\\n\")\n",
    "\n",
    "#delete elements in an array using remove\n",
    "new_array.remove(4)\n",
    "\n",
    "for i in range(0,len(new_array)):\n",
    "    print(new_array[i],end=\" \")\n",
    "print(\"\\n\")"
   ]
  },
  {
   "cell_type": "markdown",
   "id": "3a4ef634",
   "metadata": {},
   "source": [
    "# Slicing"
   ]
  },
  {
   "cell_type": "markdown",
   "id": "8a887d91",
   "metadata": {},
   "source": [
    "Slicing is the process of getting a sequence from the data structure which will will have a starting index and an ending index.\n",
    "Since Python arrays provide indexing slicing operations provide extension of arrays."
   ]
  },
  {
   "cell_type": "code",
   "execution_count": 33,
   "id": "0f648d53",
   "metadata": {},
   "outputs": [
    {
     "name": "stdout",
     "output_type": "stream",
     "text": [
      "30 33 36 39 42 45 48 51 54 57 \n",
      "\n",
      "30 33 36 39 42 45 48 51 54 57 60 63 66 69 \n",
      "\n",
      "99 96 93 90 87 84 81 78 75 72 69 66 63 60 57 54 51 48 45 42 39 36 33 30 27 24 21 18 15 12 9 6 3 0 "
     ]
    }
   ],
   "source": [
    "#slicing operation i an array\n",
    "x=list(range(0,100,3))\n",
    "arr=myarray.array('i',x)\n",
    "\n",
    "#slicing operation\n",
    "arr0=arr[10:20]\n",
    "for i in range(0,len(arr0)):\n",
    "    print(arr0[i],end=\" \")\n",
    "print('\\n')    \n",
    "#Negative index \n",
    "arr1=arr[10:-10]\n",
    "for i in range(0,len(arr1)):\n",
    "    print(arr1[i],end=\" \")\n",
    "print('\\n')     \n",
    "#Reversing the order using slicing\n",
    "arr2=arr[::-1]\n",
    "for i in range(0,len(arr2)):\n",
    "    print(arr2[i],end=\" \")"
   ]
  },
  {
   "cell_type": "markdown",
   "id": "ae826284",
   "metadata": {},
   "source": [
    "# Search"
   ]
  },
  {
   "cell_type": "code",
   "execution_count": 35,
   "id": "d14c2799",
   "metadata": {},
   "outputs": [
    {
     "name": "stdout",
     "output_type": "stream",
     "text": [
      "0 2 4 6 8 10 12 14 16 18 \n",
      "\n",
      "8 16\n"
     ]
    }
   ],
   "source": [
    "#Search operation in an array using index\n",
    "x=list(range(0,10000,2))\n",
    "search_array=myarray.array('i',x)\n",
    "\n",
    "#print first 10 element of an array\n",
    "for i in range(0,len(search_array[0:10])):\n",
    "    print(search_array[i],end=\" \")\n",
    "print(\"\\n\")\n",
    "\n",
    "#Search the number 16 in an array\n",
    "index=search_array.index(16)\n",
    "res=search_array[index]\n",
    "print(index,res)"
   ]
  },
  {
   "cell_type": "markdown",
   "id": "780475c0",
   "metadata": {},
   "source": [
    "# Sort"
   ]
  },
  {
   "cell_type": "code",
   "execution_count": 44,
   "id": "dbeb9eb4",
   "metadata": {},
   "outputs": [
    {
     "name": "stdout",
     "output_type": "stream",
     "text": [
      "[1, 2, 3, 4, 5, 6, 7, 8, 9]\n",
      "[9, 8, 7, 6, 5, 4, 3, 2, 1]\n"
     ]
    }
   ],
   "source": [
    "#Sorting Operations\n",
    "sort_array=myarray.array('i',[5,4,3,6,7,8,9,2,1])\n",
    "sorted_array=sort_array.tolist()\n",
    "\n",
    "#ascending order\n",
    "sorted_array.sort()\n",
    "print(sorted_array)\n",
    "\n",
    "#descending order\n",
    "sorted_array.sort(reverse=True)\n",
    "print(sorted_array)"
   ]
  },
  {
   "cell_type": "markdown",
   "id": "4ecdce88",
   "metadata": {},
   "source": [
    "# Numpy Arrays"
   ]
  },
  {
   "cell_type": "code",
   "execution_count": 45,
   "id": "4d599937",
   "metadata": {},
   "outputs": [
    {
     "name": "stdout",
     "output_type": "stream",
     "text": [
      "[1 2 3 4 5]\n"
     ]
    }
   ],
   "source": [
    "#import numpy\n",
    "import numpy as np\n",
    "\n",
    "arr=np.array([1,2,3,4,5])\n",
    "print(arr)"
   ]
  },
  {
   "cell_type": "code",
   "execution_count": 54,
   "id": "5055817a",
   "metadata": {},
   "outputs": [
    {
     "name": "stdout",
     "output_type": "stream",
     "text": [
      "[[0. 0.]\n",
      " [0. 0.]]\n",
      "\n",
      "\n",
      "[[1. 1.]\n",
      " [1. 1.]]\n",
      "\n",
      "\n",
      "[[5 5]\n",
      " [5 5]]\n",
      "\n",
      "\n",
      "[[1. 0.]\n",
      " [0. 1.]]\n",
      "\n",
      "\n",
      "[[0.09070584 0.7659541 ]\n",
      " [0.3961496  0.9302613 ]]\n",
      "\n",
      "\n"
     ]
    }
   ],
   "source": [
    "#create an array with all zero\n",
    "zeros=np.zeros((2,2))\n",
    "print(zeros)\n",
    "print(\"\\n\")\n",
    "\n",
    "#create an array with all ones\n",
    "ones=np.ones((2,2))\n",
    "print(ones)\n",
    "print('\\n')\n",
    "\n",
    "#create an array with constant\n",
    "const=np.full((2,2),5)\n",
    "print(const)\n",
    "print(\"\\n\")\n",
    "\n",
    "#create an identity matrix\n",
    "iden=np.eye(2)\n",
    "print(iden)\n",
    "print(\"\\n\")\n",
    "\n",
    "#create an array with random values\n",
    "random=np.random.random((2,2))\n",
    "print(random)\n",
    "print(\"\\n\")"
   ]
  },
  {
   "cell_type": "markdown",
   "id": "578dc53b",
   "metadata": {},
   "source": [
    "# 0D,1D,2D,3D"
   ]
  },
  {
   "cell_type": "code",
   "execution_count": 63,
   "id": "7560867c",
   "metadata": {},
   "outputs": [
    {
     "name": "stdout",
     "output_type": "stream",
     "text": [
      "1\n",
      "\n",
      "\n",
      "[1 1]\n",
      "\n",
      "\n",
      "[[1 2 3 4 5]\n",
      " [1 2 3 4 5]]\n",
      "\n",
      "\n",
      "[[[ 1  2  3]\n",
      "  [ 4  5  6]]\n",
      "\n",
      " [[ 7  8  9]\n",
      "  [10 11 12]]]\n",
      "\n",
      "\n",
      "[[[[[1 2 3 4 5]]]]]\n",
      "\n",
      "\n"
     ]
    }
   ],
   "source": [
    "#0 Dimensional Array\n",
    "zerod=np.array(1)\n",
    "print(zerod)\n",
    "print('\\n')\n",
    "\n",
    "#1 Dimensional Array\n",
    "oned=np.array([1,1])\n",
    "print(oned)\n",
    "print('\\n')\n",
    "\n",
    "#2 Dimensional Array\n",
    "twod=np.array([[1,2,3,4,5],[1,2,3,4,5]])\n",
    "print(twod)\n",
    "print('\\n')\n",
    "\n",
    "#3 Dimensional Array\n",
    "threed=np.array([[[1,2,3],[4,5,6]],[[7,8,9],[10,11,12]]])\n",
    "print(threed)\n",
    "print('\\n')\n",
    "\n",
    "#Multi Dimensional Array\n",
    "multid=np.array([1,2,3,4,5],ndmin=5)\n",
    "print(multid)\n",
    "print('\\n')"
   ]
  },
  {
   "cell_type": "code",
   "execution_count": 65,
   "id": "64cae443",
   "metadata": {},
   "outputs": [
    {
     "name": "stdout",
     "output_type": "stream",
     "text": [
      "0\n",
      "1\n",
      "2\n",
      "3\n",
      "5\n"
     ]
    }
   ],
   "source": [
    "#Check Dimension\n",
    "print(zerod.ndim)\n",
    "print(oned.ndim)\n",
    "print(twod.ndim)\n",
    "print(threed.ndim)\n",
    "print(multid.ndim)"
   ]
  },
  {
   "cell_type": "code",
   "execution_count": 69,
   "id": "7a677f90",
   "metadata": {},
   "outputs": [
    {
     "name": "stdout",
     "output_type": "stream",
     "text": [
      "1 2 3 4 5 6 7 8 9 10 \n",
      "\n",
      "[  1   2   3   4   5   6   7   8   9 100]\n",
      "\n",
      "\n",
      "[1 2 3 4 5 6 7 8 9]\n"
     ]
    }
   ],
   "source": [
    "#CRUD Operation in numpy Arrays\n",
    "\n",
    "#reading from numpy arrays\n",
    "sample_array=np.array([1,2,3,4,5,6,7,8,9,10])\n",
    "for i in range(0,len(sample_array)):\n",
    "    print(sample_array[i],end=\" \")\n",
    "print(\"\\n\")    \n",
    "\n",
    "\n",
    "#Updateing element in a numpy array we make use indexing here\n",
    "sample_array[9]=100\n",
    "print(sample_array)\n",
    "print(\"\\n\")\n",
    "\n",
    "#deleting elements in a numpy array\n",
    "sample_array=np.delete(sample_array,9)\n",
    "print(sample_array)"
   ]
  },
  {
   "cell_type": "code",
   "execution_count": 71,
   "id": "f3e5dddd",
   "metadata": {},
   "outputs": [
    {
     "name": "stdout",
     "output_type": "stream",
     "text": [
      "(array([4], dtype=int64),)\n",
      "20\n"
     ]
    }
   ],
   "source": [
    "#searching element in an numpy array\n",
    "x=list(range(0,100,5))\n",
    "sample_search_array=np.array(x)\n",
    "\n",
    "#Searching the element 20\n",
    "res=np.where(sample_search_array==20)\n",
    "print(res)\n",
    "\n",
    "#checking if the returning index is true\n",
    "print(sample_search_array[4])"
   ]
  },
  {
   "cell_type": "code",
   "execution_count": 72,
   "id": "956a3c2d",
   "metadata": {},
   "outputs": [
    {
     "name": "stdout",
     "output_type": "stream",
     "text": [
      "[ 1  2  3  4  5  6  7  8  9 10]\n"
     ]
    }
   ],
   "source": [
    "#Sorting elements in a numpy array\n",
    "sample_sort_array=np.array([1,3,5,7,9,2,4,6,8,10])\n",
    "\n",
    "#sorting the numpy array using sort\n",
    "sort=np.sort(sample_sort_array)\n",
    "print(sort)"
   ]
  },
  {
   "cell_type": "code",
   "execution_count": 79,
   "id": "c77a90ec",
   "metadata": {},
   "outputs": [
    {
     "name": "stdout",
     "output_type": "stream",
     "text": [
      "[[5 7 9]]\n",
      "\n",
      "\n",
      "[[-3 -3 -3]]\n",
      "\n",
      "\n",
      "[[ 4 10 18]]\n",
      "\n",
      "\n",
      "[[0.25 0.4  0.5 ]]\n",
      "\n",
      "\n",
      "[[1.         1.41421356 1.73205081]]\n",
      "[[2.         2.23606798 2.44948974]]\n",
      "\n",
      "\n",
      "[[1 2 3]\n",
      " [4 5 6]\n",
      " [7 8 9]]\n",
      "\n",
      "\n",
      "[[1 4 7]\n",
      " [2 5 8]\n",
      " [3 6 9]]\n"
     ]
    }
   ],
   "source": [
    "#Mathematical Operation\n",
    "a=np.array([[1,2,3]],dtype=np.int64)\n",
    "b=np.array([[4,5,6]],dtype=np.int64)\n",
    "\n",
    "#Addition two numpy array\n",
    "addition=np.add(a,b)\n",
    "print(addition)\n",
    "print(\"\\n\")\n",
    "#Substraction two numpy array\n",
    "Substraction=np.subtract(a,b)\n",
    "print(Substraction)\n",
    "print(\"\\n\")\n",
    "#Multiplication two numpy array\n",
    "Multiplication=np.multiply(a,b)\n",
    "print(Multiplication)\n",
    "print(\"\\n\")\n",
    "#Division two numpy array\n",
    "Division=np.divide(a,b)\n",
    "print(Division)\n",
    "print(\"\\n\")\n",
    "#Square root numpy array\n",
    "sqrta=np.sqrt(a)\n",
    "sqrtb=np.sqrt(b)\n",
    "print(sqrta)\n",
    "print(sqrtb)\n",
    "print(\"\\n\")\n",
    "\n",
    "#Transpose ofnumpy array\n",
    "x=np.array([[1,2,3],[4,5,6],[7,8,9]])\n",
    "transpose=np.transpose(x)\n",
    "print(x)\n",
    "print(\"\\n\")\n",
    "print(transpose)"
   ]
  },
  {
   "cell_type": "code",
   "execution_count": null,
   "id": "7725ccbd",
   "metadata": {},
   "outputs": [],
   "source": []
  }
 ],
 "metadata": {
  "kernelspec": {
   "display_name": "Python 3 (ipykernel)",
   "language": "python",
   "name": "python3"
  },
  "language_info": {
   "codemirror_mode": {
    "name": "ipython",
    "version": 3
   },
   "file_extension": ".py",
   "mimetype": "text/x-python",
   "name": "python",
   "nbconvert_exporter": "python",
   "pygments_lexer": "ipython3",
   "version": "3.8.8"
  }
 },
 "nbformat": 4,
 "nbformat_minor": 5
}
