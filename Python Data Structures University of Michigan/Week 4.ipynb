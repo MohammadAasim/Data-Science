{
 "cells": [
  {
   "cell_type": "markdown",
   "id": "c93887a6",
   "metadata": {},
   "source": [
    "# Programming"
   ]
  },
  {
   "cell_type": "markdown",
   "id": "dcfc10bb",
   "metadata": {},
   "source": [
    "### Algorithms"
   ]
  },
  {
   "cell_type": "markdown",
   "id": "5373a447",
   "metadata": {},
   "source": [
    "#### > A set of rules or steps used to sole a problem"
   ]
  },
  {
   "cell_type": "markdown",
   "id": "2e4be496",
   "metadata": {},
   "source": [
    "### Data Structure"
   ]
  },
  {
   "cell_type": "markdown",
   "id": "84018a8a",
   "metadata": {},
   "source": [
    "#### > A particular way of organizing data in a computer"
   ]
  },
  {
   "cell_type": "markdown",
   "id": "1d41b1ef",
   "metadata": {},
   "source": [
    "# Lists"
   ]
  },
  {
   "cell_type": "markdown",
   "id": "ee8ca86b",
   "metadata": {},
   "source": [
    "### A List is kind of collection"
   ]
  },
  {
   "cell_type": "markdown",
   "id": "9c628ad3",
   "metadata": {},
   "source": [
    "- A collection allows us to put many values in a single variable\n",
    "- A collection is nice because we cab carry many values around in one convebient package"
   ]
  },
  {
   "cell_type": "code",
   "execution_count": 2,
   "id": "810026db",
   "metadata": {},
   "outputs": [],
   "source": [
    "Friends=['Harsh','Ishank','Raj','Tushar']"
   ]
  },
  {
   "cell_type": "code",
   "execution_count": 3,
   "id": "19bca868",
   "metadata": {},
   "outputs": [
    {
     "name": "stdout",
     "output_type": "stream",
     "text": [
      "['Harsh', 'Ishank', 'Raj', 'Tushar']\n"
     ]
    }
   ],
   "source": [
    "print(Friends)"
   ]
  },
  {
   "cell_type": "code",
   "execution_count": 5,
   "id": "7b4055d8",
   "metadata": {},
   "outputs": [
    {
     "name": "stdout",
     "output_type": "stream",
     "text": [
      "['a', 1, 'b', 2, 'c', 3, 3.14, 65.3]\n"
     ]
    }
   ],
   "source": [
    "print(['a',1,'b',2,'c',3,3.14,65.3])"
   ]
  },
  {
   "cell_type": "code",
   "execution_count": 6,
   "id": "c284386e",
   "metadata": {},
   "outputs": [
    {
     "name": "stdout",
     "output_type": "stream",
     "text": [
      "[1, [2, 3], 4, [5, 6], 7]\n"
     ]
    }
   ],
   "source": [
    "print([1,[2,3],4,[5,6],7])"
   ]
  },
  {
   "cell_type": "markdown",
   "id": "d8d9bb8c",
   "metadata": {},
   "source": [
    "## Loop in List"
   ]
  },
  {
   "cell_type": "code",
   "execution_count": 7,
   "id": "01191263",
   "metadata": {},
   "outputs": [
    {
     "name": "stdout",
     "output_type": "stream",
     "text": [
      "5\n",
      "4\n",
      "3\n",
      "2\n",
      "1\n",
      "Bladtoff!\n"
     ]
    }
   ],
   "source": [
    "for i in [5,4,3,2,1]:\n",
    "    print(i)\n",
    "print('Bladtoff!')    "
   ]
  },
  {
   "cell_type": "code",
   "execution_count": 9,
   "id": "12435474",
   "metadata": {},
   "outputs": [
    {
     "name": "stdout",
     "output_type": "stream",
     "text": [
      "Happy Birthday  Harsh\n",
      "Happy Birthday  Ishank\n",
      "Happy Birthday  Raj\n",
      "Happy Birthday  Tushar\n",
      "Done!\n"
     ]
    }
   ],
   "source": [
    "Friends=['Harsh','Ishank','Raj','Tushar']\n",
    "for friend in Friends:\n",
    "    print('Happy Birthday ',friend)\n",
    "print('Done!')    "
   ]
  },
  {
   "cell_type": "markdown",
   "id": "f14bb62d",
   "metadata": {},
   "source": [
    "# Looking Inside Lists"
   ]
  },
  {
   "cell_type": "code",
   "execution_count": 10,
   "id": "5a55ae55",
   "metadata": {},
   "outputs": [
    {
     "name": "stdout",
     "output_type": "stream",
     "text": [
      "Harsh\n",
      "Ishank\n",
      "Tushar\n"
     ]
    }
   ],
   "source": [
    "Friends=['Harsh','Ishank','Raj','Tushar']\n",
    "print(Friend[0])\n",
    "print(Friend[1])\n",
    "print(Friend[3])"
   ]
  },
  {
   "cell_type": "markdown",
   "id": "e1609e5f",
   "metadata": {},
   "source": [
    "### Lista are Mutable"
   ]
  },
  {
   "cell_type": "code",
   "execution_count": 27,
   "id": "3e88e6c4",
   "metadata": {},
   "outputs": [],
   "source": [
    "lotto=[11,22,33,44,55,55,77]"
   ]
  },
  {
   "cell_type": "code",
   "execution_count": 28,
   "id": "0f3829fc",
   "metadata": {},
   "outputs": [
    {
     "data": {
      "text/plain": [
       "[11, 22, 33, 44, 55, 55, 77]"
      ]
     },
     "execution_count": 28,
     "metadata": {},
     "output_type": "execute_result"
    }
   ],
   "source": [
    "lotto"
   ]
  },
  {
   "cell_type": "code",
   "execution_count": 29,
   "id": "f0ef5bcb",
   "metadata": {},
   "outputs": [],
   "source": [
    "lotto[5]=66"
   ]
  },
  {
   "cell_type": "code",
   "execution_count": 30,
   "id": "f2274b64",
   "metadata": {},
   "outputs": [
    {
     "data": {
      "text/plain": [
       "[11, 22, 33, 44, 55, 66, 77]"
      ]
     },
     "execution_count": 30,
     "metadata": {},
     "output_type": "execute_result"
    }
   ],
   "source": [
    "lotto"
   ]
  },
  {
   "cell_type": "markdown",
   "id": "3a832177",
   "metadata": {},
   "source": [
    "## Using the range Function"
   ]
  },
  {
   "cell_type": "code",
   "execution_count": 39,
   "id": "b24499f6",
   "metadata": {},
   "outputs": [
    {
     "name": "stdout",
     "output_type": "stream",
     "text": [
      "0\n",
      "1\n",
      "2\n",
      "3\n"
     ]
    }
   ],
   "source": [
    "for z in range(4):\n",
    "    print(z)"
   ]
  },
  {
   "cell_type": "code",
   "execution_count": 43,
   "id": "53bbd918",
   "metadata": {},
   "outputs": [
    {
     "name": "stdout",
     "output_type": "stream",
     "text": [
      "Happy New Year  Harsh\n",
      "Happy New Year  Ishank\n",
      "Happy New Year  Raj\n",
      "Happy New Year  Tushar\n"
     ]
    }
   ],
   "source": [
    "Friends=['Harsh','Ishank','Raj','Tushar']\n",
    "for friend in range(len(Friends)):\n",
    "    friend=Friend[friend]\n",
    "    print(\"Happy New Year \",friend)"
   ]
  },
  {
   "cell_type": "markdown",
   "id": "5b75fd1c",
   "metadata": {},
   "source": [
    "## Concatenating List Using +"
   ]
  },
  {
   "cell_type": "code",
   "execution_count": 44,
   "id": "c1b5c648",
   "metadata": {},
   "outputs": [
    {
     "name": "stdout",
     "output_type": "stream",
     "text": [
      "[1, 2, 3, 4, 5, 6]\n"
     ]
    }
   ],
   "source": [
    "a=[1,2,3]\n",
    "b=[4,5,6]\n",
    "c=a+b\n",
    "print(c)"
   ]
  },
  {
   "cell_type": "markdown",
   "id": "23ece4c3",
   "metadata": {},
   "source": [
    "## Lists can be Sliced Using :"
   ]
  },
  {
   "cell_type": "code",
   "execution_count": 45,
   "id": "32b2b115",
   "metadata": {},
   "outputs": [],
   "source": [
    "t=[1,2,3,4,5,6,7,8,9]"
   ]
  },
  {
   "cell_type": "code",
   "execution_count": 46,
   "id": "6e47809b",
   "metadata": {},
   "outputs": [
    {
     "data": {
      "text/plain": [
       "[9, 8, 7, 6, 5, 4, 3, 2, 1]"
      ]
     },
     "execution_count": 46,
     "metadata": {},
     "output_type": "execute_result"
    }
   ],
   "source": [
    "t[::-1]"
   ]
  },
  {
   "cell_type": "code",
   "execution_count": 47,
   "id": "1b9eb9be",
   "metadata": {},
   "outputs": [
    {
     "data": {
      "text/plain": [
       "[1, 2, 3, 4]"
      ]
     },
     "execution_count": 47,
     "metadata": {},
     "output_type": "execute_result"
    }
   ],
   "source": [
    "t[:4]"
   ]
  },
  {
   "cell_type": "code",
   "execution_count": 48,
   "id": "ac4e1c91",
   "metadata": {},
   "outputs": [
    {
     "data": {
      "text/plain": [
       "[5, 6, 7, 8, 9]"
      ]
     },
     "execution_count": 48,
     "metadata": {},
     "output_type": "execute_result"
    }
   ],
   "source": [
    "t[4:]"
   ]
  },
  {
   "cell_type": "code",
   "execution_count": 49,
   "id": "ee1dccdf",
   "metadata": {},
   "outputs": [
    {
     "data": {
      "text/plain": [
       "[1, 2, 3, 4, 5, 6, 7, 8, 9]"
      ]
     },
     "execution_count": 49,
     "metadata": {},
     "output_type": "execute_result"
    }
   ],
   "source": [
    "t[:]"
   ]
  },
  {
   "cell_type": "code",
   "execution_count": 50,
   "id": "b1d5d63d",
   "metadata": {},
   "outputs": [
    {
     "data": {
      "text/plain": [
       "[3, 4, 5]"
      ]
     },
     "execution_count": 50,
     "metadata": {},
     "output_type": "execute_result"
    }
   ],
   "source": [
    "t[2:5]"
   ]
  },
  {
   "cell_type": "markdown",
   "id": "9e17db06",
   "metadata": {},
   "source": [
    "### Building List from Scratch"
   ]
  },
  {
   "cell_type": "code",
   "execution_count": 51,
   "id": "bd2cfcfa",
   "metadata": {},
   "outputs": [
    {
     "name": "stdout",
     "output_type": "stream",
     "text": [
      "['Book', 99]\n"
     ]
    }
   ],
   "source": [
    "stuff=list()\n",
    "stuff.append('Book')\n",
    "stuff.append(99)\n",
    "print(stuff)"
   ]
  },
  {
   "cell_type": "code",
   "execution_count": 52,
   "id": "1f4a815b",
   "metadata": {},
   "outputs": [],
   "source": [
    "stuff.append('cookie')"
   ]
  },
  {
   "cell_type": "code",
   "execution_count": 53,
   "id": "00d921b6",
   "metadata": {},
   "outputs": [
    {
     "name": "stdout",
     "output_type": "stream",
     "text": [
      "['Book', 99, 'cookie']\n"
     ]
    }
   ],
   "source": [
    "print(stuff)"
   ]
  },
  {
   "cell_type": "markdown",
   "id": "f966f3b8",
   "metadata": {},
   "source": [
    "## Is something in a List ?"
   ]
  },
  {
   "cell_type": "code",
   "execution_count": 54,
   "id": "a21cebbf",
   "metadata": {},
   "outputs": [],
   "source": [
    "some=[1,2,3,4,8,76,34,13,21]"
   ]
  },
  {
   "cell_type": "code",
   "execution_count": 55,
   "id": "125d8b9f",
   "metadata": {},
   "outputs": [
    {
     "data": {
      "text/plain": [
       "True"
      ]
     },
     "execution_count": 55,
     "metadata": {},
     "output_type": "execute_result"
    }
   ],
   "source": [
    "8 in some"
   ]
  },
  {
   "cell_type": "code",
   "execution_count": 56,
   "id": "026e394c",
   "metadata": {},
   "outputs": [
    {
     "data": {
      "text/plain": [
       "False"
      ]
     },
     "execution_count": 56,
     "metadata": {},
     "output_type": "execute_result"
    }
   ],
   "source": [
    "35 in some"
   ]
  },
  {
   "cell_type": "code",
   "execution_count": 57,
   "id": "6766b13c",
   "metadata": {},
   "outputs": [
    {
     "data": {
      "text/plain": [
       "True"
      ]
     },
     "execution_count": 57,
     "metadata": {},
     "output_type": "execute_result"
    }
   ],
   "source": [
    "54 not in some"
   ]
  },
  {
   "cell_type": "code",
   "execution_count": 59,
   "id": "218512fc",
   "metadata": {},
   "outputs": [
    {
     "name": "stdout",
     "output_type": "stream",
     "text": [
      "['Aasim', 'Harsh', 'Ishank', 'Raj', 'Shahil', 'Tushar']\n"
     ]
    }
   ],
   "source": [
    "Friends=['Harsh','Ishank','Raj','Tushar','Aasim','Shahil']\n",
    "Friends.sort()\n",
    "print(Friends)"
   ]
  },
  {
   "cell_type": "code",
   "execution_count": 60,
   "id": "58bb532a",
   "metadata": {},
   "outputs": [
    {
     "data": {
      "text/plain": [
       "'Aasim'"
      ]
     },
     "execution_count": 60,
     "metadata": {},
     "output_type": "execute_result"
    }
   ],
   "source": [
    "Friends[0]"
   ]
  },
  {
   "cell_type": "markdown",
   "id": "ed5fd709",
   "metadata": {},
   "source": [
    "## Buit-in Function and Lits"
   ]
  },
  {
   "cell_type": "code",
   "execution_count": 61,
   "id": "3b0bdbcf",
   "metadata": {},
   "outputs": [],
   "source": [
    "nums=[3,42,12,43,23,6,87,87]"
   ]
  },
  {
   "cell_type": "code",
   "execution_count": 62,
   "id": "8c77dd03",
   "metadata": {},
   "outputs": [
    {
     "data": {
      "text/plain": [
       "8"
      ]
     },
     "execution_count": 62,
     "metadata": {},
     "output_type": "execute_result"
    }
   ],
   "source": [
    "len(nums)"
   ]
  },
  {
   "cell_type": "code",
   "execution_count": 63,
   "id": "dfc24288",
   "metadata": {},
   "outputs": [
    {
     "data": {
      "text/plain": [
       "87"
      ]
     },
     "execution_count": 63,
     "metadata": {},
     "output_type": "execute_result"
    }
   ],
   "source": [
    "max(nums)"
   ]
  },
  {
   "cell_type": "code",
   "execution_count": 64,
   "id": "240410a8",
   "metadata": {},
   "outputs": [
    {
     "data": {
      "text/plain": [
       "3"
      ]
     },
     "execution_count": 64,
     "metadata": {},
     "output_type": "execute_result"
    }
   ],
   "source": [
    "min(nums)"
   ]
  },
  {
   "cell_type": "code",
   "execution_count": 65,
   "id": "b06b90e2",
   "metadata": {},
   "outputs": [
    {
     "data": {
      "text/plain": [
       "303"
      ]
     },
     "execution_count": 65,
     "metadata": {},
     "output_type": "execute_result"
    }
   ],
   "source": [
    "sum(nums)"
   ]
  },
  {
   "cell_type": "code",
   "execution_count": 67,
   "id": "75771ba7",
   "metadata": {},
   "outputs": [
    {
     "name": "stdout",
     "output_type": "stream",
     "text": [
      "37.875\n"
     ]
    }
   ],
   "source": [
    "avg=sum(nums)/len(nums)\n",
    "print(avg)"
   ]
  },
  {
   "cell_type": "code",
   "execution_count": 68,
   "id": "0d296007",
   "metadata": {},
   "outputs": [
    {
     "name": "stdout",
     "output_type": "stream",
     "text": [
      "Enter a Number : 3\n",
      "Enter a Number : 9\n",
      "Enter a Number : 5\n",
      "Enter a Number : done\n",
      "Average :  5.666666666666667\n"
     ]
    }
   ],
   "source": [
    "total=0\n",
    "count=0\n",
    "while True:\n",
    "    inp=input(\"Enter a Number : \")\n",
    "    if inp=='done' : break\n",
    "    value=float(inp)\n",
    "    total=total+value\n",
    "    count=count+1\n",
    "average=total/count\n",
    "print('Average : ',average)"
   ]
  },
  {
   "cell_type": "code",
   "execution_count": 70,
   "id": "b9cffc32",
   "metadata": {},
   "outputs": [
    {
     "name": "stdout",
     "output_type": "stream",
     "text": [
      "Enter a number: 3\n",
      "Enter a number: 9\n",
      "Enter a number: 5\n",
      "Enter a number: done\n",
      "Average :  5.666666666666667\n"
     ]
    }
   ],
   "source": [
    "numlist=list()\n",
    "while True :\n",
    "    inp=input(\"Enter a number: \")\n",
    "    if inp == 'done':\n",
    "        break\n",
    "    value=float(inp)\n",
    "    numlist.append(value)\n",
    "avg=sum(numlist)/len(numlist)\n",
    "print('Average : ',avg)"
   ]
  },
  {
   "cell_type": "markdown",
   "id": "e488c996",
   "metadata": {},
   "source": [
    "# Lists and Strings"
   ]
  },
  {
   "cell_type": "code",
   "execution_count": 71,
   "id": "c6d4efd5",
   "metadata": {},
   "outputs": [
    {
     "name": "stdout",
     "output_type": "stream",
     "text": [
      "['With', 'three', 'words']\n"
     ]
    }
   ],
   "source": [
    "abc='With three words'\n",
    "stuff=abc.split()\n",
    "print(stuff)"
   ]
  },
  {
   "cell_type": "code",
   "execution_count": 72,
   "id": "3f1e73bc",
   "metadata": {},
   "outputs": [
    {
     "data": {
      "text/plain": [
       "3"
      ]
     },
     "execution_count": 72,
     "metadata": {},
     "output_type": "execute_result"
    }
   ],
   "source": [
    "len(stuff)"
   ]
  },
  {
   "cell_type": "code",
   "execution_count": 73,
   "id": "1cec3a19",
   "metadata": {},
   "outputs": [
    {
     "name": "stdout",
     "output_type": "stream",
     "text": [
      "With\n",
      "three\n",
      "words\n"
     ]
    }
   ],
   "source": [
    "for w in stuff:\n",
    "    print(w)"
   ]
  },
  {
   "cell_type": "code",
   "execution_count": 74,
   "id": "e6eee53c",
   "metadata": {},
   "outputs": [
    {
     "name": "stdout",
     "output_type": "stream",
     "text": [
      "['First;Second;Third;Fourth']\n"
     ]
    }
   ],
   "source": [
    "line='First;Second;Third;Fourth'\n",
    "thing=line.split()\n",
    "print(thing)"
   ]
  },
  {
   "cell_type": "code",
   "execution_count": 75,
   "id": "8be2e146",
   "metadata": {},
   "outputs": [
    {
     "name": "stdout",
     "output_type": "stream",
     "text": [
      "['First', 'Second', 'Third', 'Fourth']\n"
     ]
    }
   ],
   "source": [
    "thing=line.split(';')\n",
    "print(thing)"
   ]
  },
  {
   "cell_type": "code",
   "execution_count": 76,
   "id": "f64969bd",
   "metadata": {},
   "outputs": [
    {
     "data": {
      "text/plain": [
       "4"
      ]
     },
     "execution_count": 76,
     "metadata": {},
     "output_type": "execute_result"
    }
   ],
   "source": [
    "len(thing)"
   ]
  },
  {
   "cell_type": "code",
   "execution_count": 81,
   "id": "5955fb6c",
   "metadata": {},
   "outputs": [],
   "source": [
    "fhand=open('mbox-short.txt')\n",
    "for line in fhand:\n",
    "    line=line.rstrp()\n",
    "    if not line.startwith('From'):\n",
    "        continue\n",
    "    word=line.split()\n",
    "    print(word[2])"
   ]
  },
  {
   "cell_type": "code",
   "execution_count": 80,
   "id": "e691fbb9",
   "metadata": {},
   "outputs": [
    {
     "name": "stdout",
     "output_type": "stream",
     "text": [
      "['From', 'stephen.marquard@uct.ac.za', 'Sat', 'Jan', '5', '09:14:16', '2008']\n"
     ]
    }
   ],
   "source": [
    "line='From stephen.marquard@uct.ac.za Sat Jan 5 09:14:16 2008'\n",
    "word=line.split()\n",
    "print(word)"
   ]
  },
  {
   "cell_type": "markdown",
   "id": "ef348e0a",
   "metadata": {},
   "source": [
    "## The Double Split Pattern"
   ]
  },
  {
   "cell_type": "code",
   "execution_count": 82,
   "id": "49ebcc18",
   "metadata": {},
   "outputs": [
    {
     "name": "stdout",
     "output_type": "stream",
     "text": [
      "stephen.marquard@uct.ac.za\n"
     ]
    }
   ],
   "source": [
    "line='From stephen.marquard@uct.ac.za Sat Jan 5 09:14:16 2008'\n",
    "word=line.split()\n",
    "email=word[1]\n",
    "print(email)"
   ]
  },
  {
   "cell_type": "code",
   "execution_count": 84,
   "id": "efd816e2",
   "metadata": {},
   "outputs": [
    {
     "name": "stdout",
     "output_type": "stream",
     "text": [
      "['stephen.marquard', 'uct.ac.za']\n"
     ]
    }
   ],
   "source": [
    "pieces=email.split('@')\n",
    "print(pieces)"
   ]
  },
  {
   "cell_type": "code",
   "execution_count": 85,
   "id": "cc21ab96",
   "metadata": {},
   "outputs": [
    {
     "name": "stdout",
     "output_type": "stream",
     "text": [
      "uct.ac.za\n"
     ]
    }
   ],
   "source": [
    "print(pieces[1])"
   ]
  },
  {
   "cell_type": "code",
   "execution_count": 87,
   "id": "970dfd68",
   "metadata": {},
   "outputs": [
    {
     "name": "stdout",
     "output_type": "stream",
     "text": [
      "Glenn\n"
     ]
    }
   ],
   "source": [
    "friends = [ 'Joseph', 'Glenn', 'Sally' ]\n",
    "friends.sort()\n",
    "print(friends[0])"
   ]
  },
  {
   "cell_type": "markdown",
   "id": "6e9061f5",
   "metadata": {},
   "source": [
    "##### 8.4 Open the file romeo.txt and read it line by line. For each line, split the line into a list of words using the split() method. The program should build a list of words. For each word on each line check to see if the word is already in the list and if not append it to the list. When the program completes, sort and print the resulting words in python sort() order as shown in the desired output.\n",
    "You can download the sample data at http://www.py4e.com/code3/romeo.txt"
   ]
  },
  {
   "cell_type": "code",
   "execution_count": 88,
   "id": "5a2a815a",
   "metadata": {},
   "outputs": [
    {
     "name": "stdout",
     "output_type": "stream",
     "text": [
      "Enter file name: mbox.txt\n",
      "['+', '.read.', '0,', '1,', '132045', '=', 'And', 'But', 'Data', 'From', 'If', 'It', 'Last', 'Line', 'Now', 'Python', 'Simple', 'So', 'So,', 'Structures', 'We', 'a', 'about', 'actually', 'all', 'all.', 'and', 'anything', 'are,', 'are.', 'away', 'back', 'be', 'because', 'built', 'but', 'by', 'can', 'careful.', 'chapters,', 'count', 'counter', 'counter,', 'counting', 'counting.', 'couple', 'course', 'data', 'do', \"doesn't\", 'doing', \"don't\", \"don't.\", 'done.', 'each', 'elsewhere,', 'exactly', 'file', 'files', 'from', 'give', 'go', 'go.', 'got', 'has', 'have', 'how', 'if', 'in', 'into', 'is,', 'it', 'just', 'knew', 'know', 'length', \"let's\", 'line', 'line,', 'lines,', 'lines.', 'loop', 'loop,', 'looping', 'many', 'much', 'newline,', 'newlines', 'newlines.', 'not', 'now', 'of', 'often', 'or', 'out,', 'print', 'read', 'reading', 'reads', 'right?', 'set', 'show', 'smart', 'so', 'some', 'something', 'sometimes,', 'split', 'stuff', 'stuff.', 'that', 'that.', 'the', 'then', 'there', 'thing', 'things', 'things,', 'this', 'through', 'time,', 'to', 'want', 'we', \"we're\", 'were', 'when', 'where', 'whole', 'will', 'with', 'write', 'you', \"you've\"]\n"
     ]
    }
   ],
   "source": [
    "fname = input('Enter file name: ')\n",
    "fh = open(fname)\n",
    "lst = list()\n",
    "for line in fh:\n",
    "    words = line.split()\n",
    "    for word in words:\n",
    "        if word not in lst:\n",
    "            lst.append(word)\n",
    "            lst.sort()\n",
    "print(lst)   "
   ]
  },
  {
   "cell_type": "code",
   "execution_count": null,
   "id": "876006e4",
   "metadata": {},
   "outputs": [],
   "source": []
  }
 ],
 "metadata": {
  "kernelspec": {
   "display_name": "Python 3 (ipykernel)",
   "language": "python",
   "name": "python3"
  },
  "language_info": {
   "codemirror_mode": {
    "name": "ipython",
    "version": 3
   },
   "file_extension": ".py",
   "mimetype": "text/x-python",
   "name": "python",
   "nbconvert_exporter": "python",
   "pygments_lexer": "ipython3",
   "version": "3.8.8"
  }
 },
 "nbformat": 4,
 "nbformat_minor": 5
}
